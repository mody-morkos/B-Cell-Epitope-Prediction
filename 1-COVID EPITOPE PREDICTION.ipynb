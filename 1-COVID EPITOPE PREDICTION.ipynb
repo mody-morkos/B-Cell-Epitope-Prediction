{
 "cells": [
  {
   "cell_type": "code",
   "execution_count": 1,
   "id": "78c249b9",
   "metadata": {},
   "outputs": [],
   "source": [
    "#The goal of this project is to find out the active parts of the Covid sequence \n",
    "#that we will use in developing the vaccine\n",
    "\n",
    "import numpy as np # linear algebra\n",
    "import pandas as pd # data processing, CSV file I/O (e.g. pd.read_csv)\n",
    "from sklearn.model_selection import train_test_split # Spliting Data\n",
    "import matplotlib.pyplot as plt # for plotting \n",
    "from IPython.display import Image\n",
    "from sklearn.metrics import precision_score\n",
    "from sklearn.metrics import recall_score\n",
    "from sklearn.model_selection import learning_curve\n",
    "import warnings\n",
    "warnings.filterwarnings(\"ignore\")\n",
    "\n"
   ]
  },
  {
   "cell_type": "markdown",
   "id": "062db9db",
   "metadata": {},
   "source": [
    "# Read Files "
   ]
  },
  {
   "cell_type": "code",
   "execution_count": 2,
   "id": "d7dcd3aa",
   "metadata": {},
   "outputs": [
    {
     "data": {
      "text/html": [
       "<div>\n",
       "<style scoped>\n",
       "    .dataframe tbody tr th:only-of-type {\n",
       "        vertical-align: middle;\n",
       "    }\n",
       "\n",
       "    .dataframe tbody tr th {\n",
       "        vertical-align: top;\n",
       "    }\n",
       "\n",
       "    .dataframe thead th {\n",
       "        text-align: right;\n",
       "    }\n",
       "</style>\n",
       "<table border=\"1\" class=\"dataframe\">\n",
       "  <thead>\n",
       "    <tr style=\"text-align: right;\">\n",
       "      <th></th>\n",
       "      <th>parent_protein_id</th>\n",
       "      <th>protein_seq</th>\n",
       "      <th>start_position</th>\n",
       "      <th>end_position</th>\n",
       "      <th>peptide_seq</th>\n",
       "      <th>chou_fasman</th>\n",
       "      <th>emini</th>\n",
       "      <th>kolaskar_tongaonkar</th>\n",
       "      <th>parker</th>\n",
       "      <th>isoelectric_point</th>\n",
       "      <th>aromaticity</th>\n",
       "      <th>hydrophobicity</th>\n",
       "      <th>stability</th>\n",
       "      <th>target</th>\n",
       "    </tr>\n",
       "  </thead>\n",
       "  <tbody>\n",
       "    <tr>\n",
       "      <th>0</th>\n",
       "      <td>A2T3T0</td>\n",
       "      <td>MDVLYSLSKTLKDARDKIVEGTLYSNVSDLIQQFNQMIITMNGNEF...</td>\n",
       "      <td>161</td>\n",
       "      <td>165</td>\n",
       "      <td>SASFT</td>\n",
       "      <td>1.016</td>\n",
       "      <td>0.703</td>\n",
       "      <td>1.018</td>\n",
       "      <td>2.22</td>\n",
       "      <td>5.810364</td>\n",
       "      <td>0.103275</td>\n",
       "      <td>-0.143829</td>\n",
       "      <td>40.273300</td>\n",
       "      <td>1</td>\n",
       "    </tr>\n",
       "    <tr>\n",
       "      <th>1</th>\n",
       "      <td>F0V2I4</td>\n",
       "      <td>MTIHKVAINGFGRIGRLLFRNLLSSQGVQVVAVNDVVDIKVLTHLL...</td>\n",
       "      <td>251</td>\n",
       "      <td>255</td>\n",
       "      <td>LCLKI</td>\n",
       "      <td>0.770</td>\n",
       "      <td>0.179</td>\n",
       "      <td>1.199</td>\n",
       "      <td>-3.86</td>\n",
       "      <td>6.210876</td>\n",
       "      <td>0.065476</td>\n",
       "      <td>-0.036905</td>\n",
       "      <td>24.998512</td>\n",
       "      <td>1</td>\n",
       "    </tr>\n",
       "    <tr>\n",
       "      <th>2</th>\n",
       "      <td>O75508</td>\n",
       "      <td>MVATCLQVVGFVTSFVGWIGVIVTTSTNDWVVTCGYTIPTCRKLDE...</td>\n",
       "      <td>145</td>\n",
       "      <td>149</td>\n",
       "      <td>AHRET</td>\n",
       "      <td>0.852</td>\n",
       "      <td>3.427</td>\n",
       "      <td>0.960</td>\n",
       "      <td>4.28</td>\n",
       "      <td>8.223938</td>\n",
       "      <td>0.091787</td>\n",
       "      <td>0.879227</td>\n",
       "      <td>27.863333</td>\n",
       "      <td>1</td>\n",
       "    </tr>\n",
       "    <tr>\n",
       "      <th>3</th>\n",
       "      <td>O84462</td>\n",
       "      <td>MTNSISGYQPTVTTSTSSTTSASGASGSLGASSVSTTANATVTQTA...</td>\n",
       "      <td>152</td>\n",
       "      <td>156</td>\n",
       "      <td>SNYDD</td>\n",
       "      <td>1.410</td>\n",
       "      <td>2.548</td>\n",
       "      <td>0.936</td>\n",
       "      <td>6.32</td>\n",
       "      <td>4.237976</td>\n",
       "      <td>0.044776</td>\n",
       "      <td>-0.521393</td>\n",
       "      <td>30.765373</td>\n",
       "      <td>1</td>\n",
       "    </tr>\n",
       "    <tr>\n",
       "      <th>4</th>\n",
       "      <td>P00918</td>\n",
       "      <td>MSHHWGYGKHNGPEHWHKDFPIAKGERQSPVDIDTHTAKYDPSLKP...</td>\n",
       "      <td>85</td>\n",
       "      <td>89</td>\n",
       "      <td>DGTYR</td>\n",
       "      <td>1.214</td>\n",
       "      <td>1.908</td>\n",
       "      <td>0.937</td>\n",
       "      <td>4.64</td>\n",
       "      <td>6.867493</td>\n",
       "      <td>0.103846</td>\n",
       "      <td>-0.578846</td>\n",
       "      <td>21.684615</td>\n",
       "      <td>1</td>\n",
       "    </tr>\n",
       "  </tbody>\n",
       "</table>\n",
       "</div>"
      ],
      "text/plain": [
       "  parent_protein_id                                        protein_seq  \\\n",
       "0            A2T3T0  MDVLYSLSKTLKDARDKIVEGTLYSNVSDLIQQFNQMIITMNGNEF...   \n",
       "1            F0V2I4  MTIHKVAINGFGRIGRLLFRNLLSSQGVQVVAVNDVVDIKVLTHLL...   \n",
       "2            O75508  MVATCLQVVGFVTSFVGWIGVIVTTSTNDWVVTCGYTIPTCRKLDE...   \n",
       "3            O84462  MTNSISGYQPTVTTSTSSTTSASGASGSLGASSVSTTANATVTQTA...   \n",
       "4            P00918  MSHHWGYGKHNGPEHWHKDFPIAKGERQSPVDIDTHTAKYDPSLKP...   \n",
       "\n",
       "   start_position  end_position peptide_seq  chou_fasman  emini  \\\n",
       "0             161           165       SASFT        1.016  0.703   \n",
       "1             251           255       LCLKI        0.770  0.179   \n",
       "2             145           149       AHRET        0.852  3.427   \n",
       "3             152           156       SNYDD        1.410  2.548   \n",
       "4              85            89       DGTYR        1.214  1.908   \n",
       "\n",
       "   kolaskar_tongaonkar  parker  isoelectric_point  aromaticity  \\\n",
       "0                1.018    2.22           5.810364     0.103275   \n",
       "1                1.199   -3.86           6.210876     0.065476   \n",
       "2                0.960    4.28           8.223938     0.091787   \n",
       "3                0.936    6.32           4.237976     0.044776   \n",
       "4                0.937    4.64           6.867493     0.103846   \n",
       "\n",
       "   hydrophobicity  stability  target  \n",
       "0       -0.143829  40.273300       1  \n",
       "1       -0.036905  24.998512       1  \n",
       "2        0.879227  27.863333       1  \n",
       "3       -0.521393  30.765373       1  \n",
       "4       -0.578846  21.684615       1  "
      ]
     },
     "execution_count": 2,
     "metadata": {},
     "output_type": "execute_result"
    }
   ],
   "source": [
    "Bcell = pd.read_csv(\"input_bcell.csv\")\n",
    "Sars  = pd.read_csv(\"input_sars.csv\") \n",
    "Covid = pd.read_csv(\"input_covid.csv\")\n",
    "Bcell.head()"
   ]
  },
  {
   "cell_type": "code",
   "execution_count": 125,
   "id": "df6429d9",
   "metadata": {},
   "outputs": [
    {
     "data": {
      "text/html": [
       "<div>\n",
       "<style scoped>\n",
       "    .dataframe tbody tr th:only-of-type {\n",
       "        vertical-align: middle;\n",
       "    }\n",
       "\n",
       "    .dataframe tbody tr th {\n",
       "        vertical-align: top;\n",
       "    }\n",
       "\n",
       "    .dataframe thead th {\n",
       "        text-align: right;\n",
       "    }\n",
       "</style>\n",
       "<table border=\"1\" class=\"dataframe\">\n",
       "  <thead>\n",
       "    <tr style=\"text-align: right;\">\n",
       "      <th></th>\n",
       "      <th>parent_protein_id</th>\n",
       "      <th>protein_seq</th>\n",
       "      <th>start_position</th>\n",
       "      <th>end_position</th>\n",
       "      <th>peptide_seq</th>\n",
       "      <th>chou_fasman</th>\n",
       "      <th>emini</th>\n",
       "      <th>kolaskar_tongaonkar</th>\n",
       "      <th>parker</th>\n",
       "      <th>isoelectric_point</th>\n",
       "      <th>aromaticity</th>\n",
       "      <th>hydrophobicity</th>\n",
       "      <th>stability</th>\n",
       "      <th>target</th>\n",
       "    </tr>\n",
       "  </thead>\n",
       "  <tbody>\n",
       "    <tr>\n",
       "      <th>0</th>\n",
       "      <td>AAU93319</td>\n",
       "      <td>MFIFLLFLTLTSGSDLDRCTTFDDVQAPNYTQHTSSMRGVYYPDEI...</td>\n",
       "      <td>1</td>\n",
       "      <td>17</td>\n",
       "      <td>MFIFLLFLTLTSGSDLD</td>\n",
       "      <td>0.887</td>\n",
       "      <td>0.040</td>\n",
       "      <td>1.056</td>\n",
       "      <td>-2.159</td>\n",
       "      <td>5.569763</td>\n",
       "      <td>0.116335</td>\n",
       "      <td>-0.061116</td>\n",
       "      <td>33.205116</td>\n",
       "      <td>0</td>\n",
       "    </tr>\n",
       "    <tr>\n",
       "      <th>1</th>\n",
       "      <td>AAU93319</td>\n",
       "      <td>MFIFLLFLTLTSGSDLDRCTTFDDVQAPNYTQHTSSMRGVYYPDEI...</td>\n",
       "      <td>1</td>\n",
       "      <td>15</td>\n",
       "      <td>MFIFLLFLTLTSGSD</td>\n",
       "      <td>0.869</td>\n",
       "      <td>0.047</td>\n",
       "      <td>1.056</td>\n",
       "      <td>-2.500</td>\n",
       "      <td>5.569763</td>\n",
       "      <td>0.116335</td>\n",
       "      <td>-0.061116</td>\n",
       "      <td>33.205116</td>\n",
       "      <td>0</td>\n",
       "    </tr>\n",
       "    <tr>\n",
       "      <th>2</th>\n",
       "      <td>AAU93319</td>\n",
       "      <td>MFIFLLFLTLTSGSDLDRCTTFDDVQAPNYTQHTSSMRGVYYPDEI...</td>\n",
       "      <td>2</td>\n",
       "      <td>10</td>\n",
       "      <td>FIFLLFLTL</td>\n",
       "      <td>0.621</td>\n",
       "      <td>0.042</td>\n",
       "      <td>1.148</td>\n",
       "      <td>-7.467</td>\n",
       "      <td>5.569763</td>\n",
       "      <td>0.116335</td>\n",
       "      <td>-0.061116</td>\n",
       "      <td>33.205116</td>\n",
       "      <td>0</td>\n",
       "    </tr>\n",
       "    <tr>\n",
       "      <th>3</th>\n",
       "      <td>AAU93319</td>\n",
       "      <td>MFIFLLFLTLTSGSDLDRCTTFDDVQAPNYTQHTSSMRGVYYPDEI...</td>\n",
       "      <td>6</td>\n",
       "      <td>20</td>\n",
       "      <td>LFLTLTSGSDLDRCT</td>\n",
       "      <td>1.021</td>\n",
       "      <td>0.230</td>\n",
       "      <td>1.049</td>\n",
       "      <td>0.927</td>\n",
       "      <td>5.569763</td>\n",
       "      <td>0.116335</td>\n",
       "      <td>-0.061116</td>\n",
       "      <td>33.205116</td>\n",
       "      <td>0</td>\n",
       "    </tr>\n",
       "    <tr>\n",
       "      <th>4</th>\n",
       "      <td>AAU93319</td>\n",
       "      <td>MFIFLLFLTLTSGSDLDRCTTFDDVQAPNYTQHTSSMRGVYYPDEI...</td>\n",
       "      <td>9</td>\n",
       "      <td>25</td>\n",
       "      <td>TLTSGSDLDRCTTFDDV</td>\n",
       "      <td>1.089</td>\n",
       "      <td>0.627</td>\n",
       "      <td>1.015</td>\n",
       "      <td>3.165</td>\n",
       "      <td>5.569763</td>\n",
       "      <td>0.116335</td>\n",
       "      <td>-0.061116</td>\n",
       "      <td>33.205116</td>\n",
       "      <td>0</td>\n",
       "    </tr>\n",
       "  </tbody>\n",
       "</table>\n",
       "</div>"
      ],
      "text/plain": [
       "  parent_protein_id                                        protein_seq  \\\n",
       "0          AAU93319  MFIFLLFLTLTSGSDLDRCTTFDDVQAPNYTQHTSSMRGVYYPDEI...   \n",
       "1          AAU93319  MFIFLLFLTLTSGSDLDRCTTFDDVQAPNYTQHTSSMRGVYYPDEI...   \n",
       "2          AAU93319  MFIFLLFLTLTSGSDLDRCTTFDDVQAPNYTQHTSSMRGVYYPDEI...   \n",
       "3          AAU93319  MFIFLLFLTLTSGSDLDRCTTFDDVQAPNYTQHTSSMRGVYYPDEI...   \n",
       "4          AAU93319  MFIFLLFLTLTSGSDLDRCTTFDDVQAPNYTQHTSSMRGVYYPDEI...   \n",
       "\n",
       "   start_position  end_position        peptide_seq  chou_fasman  emini  \\\n",
       "0               1            17  MFIFLLFLTLTSGSDLD        0.887  0.040   \n",
       "1               1            15    MFIFLLFLTLTSGSD        0.869  0.047   \n",
       "2               2            10          FIFLLFLTL        0.621  0.042   \n",
       "3               6            20    LFLTLTSGSDLDRCT        1.021  0.230   \n",
       "4               9            25  TLTSGSDLDRCTTFDDV        1.089  0.627   \n",
       "\n",
       "   kolaskar_tongaonkar  parker  isoelectric_point  aromaticity  \\\n",
       "0                1.056  -2.159           5.569763     0.116335   \n",
       "1                1.056  -2.500           5.569763     0.116335   \n",
       "2                1.148  -7.467           5.569763     0.116335   \n",
       "3                1.049   0.927           5.569763     0.116335   \n",
       "4                1.015   3.165           5.569763     0.116335   \n",
       "\n",
       "   hydrophobicity  stability  target  \n",
       "0       -0.061116  33.205116       0  \n",
       "1       -0.061116  33.205116       0  \n",
       "2       -0.061116  33.205116       0  \n",
       "3       -0.061116  33.205116       0  \n",
       "4       -0.061116  33.205116       0  "
      ]
     },
     "execution_count": 125,
     "metadata": {},
     "output_type": "execute_result"
    }
   ],
   "source": [
    "Sars.head()"
   ]
  },
  {
   "cell_type": "code",
   "execution_count": 126,
   "id": "058f736c",
   "metadata": {},
   "outputs": [
    {
     "data": {
      "text/html": [
       "<div>\n",
       "<style scoped>\n",
       "    .dataframe tbody tr th:only-of-type {\n",
       "        vertical-align: middle;\n",
       "    }\n",
       "\n",
       "    .dataframe tbody tr th {\n",
       "        vertical-align: top;\n",
       "    }\n",
       "\n",
       "    .dataframe thead th {\n",
       "        text-align: right;\n",
       "    }\n",
       "</style>\n",
       "<table border=\"1\" class=\"dataframe\">\n",
       "  <thead>\n",
       "    <tr style=\"text-align: right;\">\n",
       "      <th></th>\n",
       "      <th>parent_protein_id</th>\n",
       "      <th>protein_seq</th>\n",
       "      <th>start_position</th>\n",
       "      <th>end_position</th>\n",
       "      <th>peptide_seq</th>\n",
       "      <th>chou_fasman</th>\n",
       "      <th>emini</th>\n",
       "      <th>kolaskar_tongaonkar</th>\n",
       "      <th>parker</th>\n",
       "      <th>isoelectric_point</th>\n",
       "      <th>aromaticity</th>\n",
       "      <th>hydrophobicity</th>\n",
       "      <th>stability</th>\n",
       "    </tr>\n",
       "  </thead>\n",
       "  <tbody>\n",
       "    <tr>\n",
       "      <th>0</th>\n",
       "      <td>6VYB_A</td>\n",
       "      <td>MGILPSPGMPALLSLVSLLSVLLMGCVAETGTQCVNLTTRTQLPPA...</td>\n",
       "      <td>1</td>\n",
       "      <td>5</td>\n",
       "      <td>MGILP</td>\n",
       "      <td>0.948</td>\n",
       "      <td>0.280</td>\n",
       "      <td>1.033</td>\n",
       "      <td>-2.72</td>\n",
       "      <td>6.03595</td>\n",
       "      <td>0.10929</td>\n",
       "      <td>-0.138642</td>\n",
       "      <td>31.377603</td>\n",
       "    </tr>\n",
       "    <tr>\n",
       "      <th>1</th>\n",
       "      <td>6VYB_A</td>\n",
       "      <td>MGILPSPGMPALLSLVSLLSVLLMGCVAETGTQCVNLTTRTQLPPA...</td>\n",
       "      <td>2</td>\n",
       "      <td>6</td>\n",
       "      <td>GILPS</td>\n",
       "      <td>1.114</td>\n",
       "      <td>0.379</td>\n",
       "      <td>1.070</td>\n",
       "      <td>-0.58</td>\n",
       "      <td>6.03595</td>\n",
       "      <td>0.10929</td>\n",
       "      <td>-0.138642</td>\n",
       "      <td>31.377603</td>\n",
       "    </tr>\n",
       "    <tr>\n",
       "      <th>2</th>\n",
       "      <td>6VYB_A</td>\n",
       "      <td>MGILPSPGMPALLSLVSLLSVLLMGCVAETGTQCVNLTTRTQLPPA...</td>\n",
       "      <td>3</td>\n",
       "      <td>7</td>\n",
       "      <td>ILPSP</td>\n",
       "      <td>1.106</td>\n",
       "      <td>0.592</td>\n",
       "      <td>1.108</td>\n",
       "      <td>-1.30</td>\n",
       "      <td>6.03595</td>\n",
       "      <td>0.10929</td>\n",
       "      <td>-0.138642</td>\n",
       "      <td>31.377603</td>\n",
       "    </tr>\n",
       "    <tr>\n",
       "      <th>3</th>\n",
       "      <td>6VYB_A</td>\n",
       "      <td>MGILPSPGMPALLSLVSLLSVLLMGCVAETGTQCVNLTTRTQLPPA...</td>\n",
       "      <td>4</td>\n",
       "      <td>8</td>\n",
       "      <td>LPSPG</td>\n",
       "      <td>1.324</td>\n",
       "      <td>0.836</td>\n",
       "      <td>1.053</td>\n",
       "      <td>1.44</td>\n",
       "      <td>6.03595</td>\n",
       "      <td>0.10929</td>\n",
       "      <td>-0.138642</td>\n",
       "      <td>31.377603</td>\n",
       "    </tr>\n",
       "    <tr>\n",
       "      <th>4</th>\n",
       "      <td>6VYB_A</td>\n",
       "      <td>MGILPSPGMPALLSLVSLLSVLLMGCVAETGTQCVNLTTRTQLPPA...</td>\n",
       "      <td>5</td>\n",
       "      <td>9</td>\n",
       "      <td>PSPGM</td>\n",
       "      <td>1.326</td>\n",
       "      <td>1.004</td>\n",
       "      <td>0.968</td>\n",
       "      <td>2.44</td>\n",
       "      <td>6.03595</td>\n",
       "      <td>0.10929</td>\n",
       "      <td>-0.138642</td>\n",
       "      <td>31.377603</td>\n",
       "    </tr>\n",
       "  </tbody>\n",
       "</table>\n",
       "</div>"
      ],
      "text/plain": [
       "  parent_protein_id                                        protein_seq  \\\n",
       "0            6VYB_A  MGILPSPGMPALLSLVSLLSVLLMGCVAETGTQCVNLTTRTQLPPA...   \n",
       "1            6VYB_A  MGILPSPGMPALLSLVSLLSVLLMGCVAETGTQCVNLTTRTQLPPA...   \n",
       "2            6VYB_A  MGILPSPGMPALLSLVSLLSVLLMGCVAETGTQCVNLTTRTQLPPA...   \n",
       "3            6VYB_A  MGILPSPGMPALLSLVSLLSVLLMGCVAETGTQCVNLTTRTQLPPA...   \n",
       "4            6VYB_A  MGILPSPGMPALLSLVSLLSVLLMGCVAETGTQCVNLTTRTQLPPA...   \n",
       "\n",
       "   start_position  end_position peptide_seq  chou_fasman  emini  \\\n",
       "0               1             5       MGILP        0.948  0.280   \n",
       "1               2             6       GILPS        1.114  0.379   \n",
       "2               3             7       ILPSP        1.106  0.592   \n",
       "3               4             8       LPSPG        1.324  0.836   \n",
       "4               5             9       PSPGM        1.326  1.004   \n",
       "\n",
       "   kolaskar_tongaonkar  parker  isoelectric_point  aromaticity  \\\n",
       "0                1.033   -2.72            6.03595      0.10929   \n",
       "1                1.070   -0.58            6.03595      0.10929   \n",
       "2                1.108   -1.30            6.03595      0.10929   \n",
       "3                1.053    1.44            6.03595      0.10929   \n",
       "4                0.968    2.44            6.03595      0.10929   \n",
       "\n",
       "   hydrophobicity  stability  \n",
       "0       -0.138642  31.377603  \n",
       "1       -0.138642  31.377603  \n",
       "2       -0.138642  31.377603  \n",
       "3       -0.138642  31.377603  \n",
       "4       -0.138642  31.377603  "
      ]
     },
     "execution_count": 126,
     "metadata": {},
     "output_type": "execute_result"
    }
   ],
   "source": [
    "Covid.head()"
   ]
  },
  {
   "cell_type": "markdown",
   "id": "043f53f9",
   "metadata": {},
   "source": [
    "## add Sars dataset to Bcell dataset \n",
    "#### Bcell know Sars  if Covid know Sars then Bcell know Covid "
   ]
  },
  {
   "cell_type": "code",
   "execution_count": 3,
   "id": "4931dd53",
   "metadata": {},
   "outputs": [
    {
     "data": {
      "text/plain": [
       "(14907, 14)"
      ]
     },
     "execution_count": 3,
     "metadata": {},
     "output_type": "execute_result"
    }
   ],
   "source": [
    "Bcell_Sars = pd.concat([Bcell,Sars],axis=0,ignore_index=True)\n",
    "Bcell_Sars.shape"
   ]
  },
  {
   "cell_type": "code",
   "execution_count": 4,
   "id": "9697d16e",
   "metadata": {},
   "outputs": [
    {
     "name": "stdout",
     "output_type": "stream",
     "text": [
      "B-cell_Sars 11  covid 0\n"
     ]
    }
   ],
   "source": [
    "B=Bcell_Sars.duplicated().sum()\n",
    "C=Covid.duplicated().sum()\n",
    "print(\"B-cell_Sars\",B,\" covid\",C)"
   ]
  },
  {
   "cell_type": "code",
   "execution_count": 5,
   "id": "3c8a7d20",
   "metadata": {},
   "outputs": [
    {
     "data": {
      "text/plain": [
       "0"
      ]
     },
     "execution_count": 5,
     "metadata": {},
     "output_type": "execute_result"
    }
   ],
   "source": [
    "Bcell_Sars=Bcell_Sars.drop_duplicates()\n",
    "Bcell_Sars.duplicated().sum()"
   ]
  },
  {
   "cell_type": "code",
   "execution_count": 131,
   "id": "4315e132",
   "metadata": {},
   "outputs": [
    {
     "data": {
      "text/plain": [
       "(parent_protein_id      0\n",
       " protein_seq            0\n",
       " start_position         0\n",
       " end_position           0\n",
       " peptide_seq            0\n",
       " chou_fasman            0\n",
       " emini                  0\n",
       " kolaskar_tongaonkar    0\n",
       " parker                 0\n",
       " isoelectric_point      0\n",
       " aromaticity            0\n",
       " hydrophobicity         0\n",
       " stability              0\n",
       " target                 0\n",
       " dtype: int64,\n",
       " parent_protein_id      0\n",
       " protein_seq            0\n",
       " start_position         0\n",
       " end_position           0\n",
       " peptide_seq            0\n",
       " chou_fasman            0\n",
       " emini                  0\n",
       " kolaskar_tongaonkar    0\n",
       " parker                 0\n",
       " isoelectric_point      0\n",
       " aromaticity            0\n",
       " hydrophobicity         0\n",
       " stability              0\n",
       " dtype: int64)"
      ]
     },
     "execution_count": 131,
     "metadata": {},
     "output_type": "execute_result"
    }
   ],
   "source": [
    "Bcell_Sars.isna().sum(),Covid.isna().sum()"
   ]
  },
  {
   "cell_type": "code",
   "execution_count": 132,
   "id": "a3f4a1ea",
   "metadata": {},
   "outputs": [
    {
     "data": {
      "text/html": [
       "<div>\n",
       "<style scoped>\n",
       "    .dataframe tbody tr th:only-of-type {\n",
       "        vertical-align: middle;\n",
       "    }\n",
       "\n",
       "    .dataframe tbody tr th {\n",
       "        vertical-align: top;\n",
       "    }\n",
       "\n",
       "    .dataframe thead th {\n",
       "        text-align: right;\n",
       "    }\n",
       "</style>\n",
       "<table border=\"1\" class=\"dataframe\">\n",
       "  <thead>\n",
       "    <tr style=\"text-align: right;\">\n",
       "      <th></th>\n",
       "      <th>start_position</th>\n",
       "      <th>end_position</th>\n",
       "      <th>chou_fasman</th>\n",
       "      <th>emini</th>\n",
       "      <th>kolaskar_tongaonkar</th>\n",
       "      <th>parker</th>\n",
       "      <th>isoelectric_point</th>\n",
       "      <th>aromaticity</th>\n",
       "      <th>hydrophobicity</th>\n",
       "      <th>stability</th>\n",
       "      <th>target</th>\n",
       "    </tr>\n",
       "  </thead>\n",
       "  <tbody>\n",
       "    <tr>\n",
       "      <th>count</th>\n",
       "      <td>14896.000000</td>\n",
       "      <td>14896.000000</td>\n",
       "      <td>14896.000000</td>\n",
       "      <td>14896.000000</td>\n",
       "      <td>14896.000000</td>\n",
       "      <td>14896.000000</td>\n",
       "      <td>14896.000000</td>\n",
       "      <td>14896.000000</td>\n",
       "      <td>14896.000000</td>\n",
       "      <td>14896.000000</td>\n",
       "      <td>14896.000000</td>\n",
       "    </tr>\n",
       "    <tr>\n",
       "      <th>mean</th>\n",
       "      <td>308.773362</td>\n",
       "      <td>319.436292</td>\n",
       "      <td>0.994906</td>\n",
       "      <td>1.074277</td>\n",
       "      <td>1.021807</td>\n",
       "      <td>1.749920</td>\n",
       "      <td>7.016036</td>\n",
       "      <td>0.077128</td>\n",
       "      <td>-0.394228</td>\n",
       "      <td>43.343509</td>\n",
       "      <td>0.270677</td>\n",
       "    </tr>\n",
       "    <tr>\n",
       "      <th>std</th>\n",
       "      <td>358.462133</td>\n",
       "      <td>358.670345</td>\n",
       "      <td>0.123667</td>\n",
       "      <td>1.736873</td>\n",
       "      <td>0.053430</td>\n",
       "      <td>1.955039</td>\n",
       "      <td>1.875898</td>\n",
       "      <td>0.026377</td>\n",
       "      <td>0.392888</td>\n",
       "      <td>16.505895</td>\n",
       "      <td>0.444324</td>\n",
       "    </tr>\n",
       "    <tr>\n",
       "      <th>min</th>\n",
       "      <td>1.000000</td>\n",
       "      <td>6.000000</td>\n",
       "      <td>0.534000</td>\n",
       "      <td>0.000000</td>\n",
       "      <td>0.838000</td>\n",
       "      <td>-9.029000</td>\n",
       "      <td>3.686096</td>\n",
       "      <td>0.000000</td>\n",
       "      <td>-1.971171</td>\n",
       "      <td>5.448936</td>\n",
       "      <td>0.000000</td>\n",
       "    </tr>\n",
       "    <tr>\n",
       "      <th>25%</th>\n",
       "      <td>86.000000</td>\n",
       "      <td>96.000000</td>\n",
       "      <td>0.913000</td>\n",
       "      <td>0.244000</td>\n",
       "      <td>0.987000</td>\n",
       "      <td>0.600000</td>\n",
       "      <td>5.569763</td>\n",
       "      <td>0.062500</td>\n",
       "      <td>-0.600131</td>\n",
       "      <td>31.725753</td>\n",
       "      <td>0.000000</td>\n",
       "    </tr>\n",
       "    <tr>\n",
       "      <th>50%</th>\n",
       "      <td>197.000000</td>\n",
       "      <td>208.000000</td>\n",
       "      <td>0.991000</td>\n",
       "      <td>0.551000</td>\n",
       "      <td>1.021000</td>\n",
       "      <td>1.775000</td>\n",
       "      <td>6.447815</td>\n",
       "      <td>0.075949</td>\n",
       "      <td>-0.318259</td>\n",
       "      <td>41.984246</td>\n",
       "      <td>0.000000</td>\n",
       "    </tr>\n",
       "    <tr>\n",
       "      <th>75%</th>\n",
       "      <td>399.250000</td>\n",
       "      <td>411.000000</td>\n",
       "      <td>1.073000</td>\n",
       "      <td>1.207000</td>\n",
       "      <td>1.055000</td>\n",
       "      <td>2.962000</td>\n",
       "      <td>8.676575</td>\n",
       "      <td>0.093458</td>\n",
       "      <td>-0.189591</td>\n",
       "      <td>49.101172</td>\n",
       "      <td>1.000000</td>\n",
       "    </tr>\n",
       "    <tr>\n",
       "      <th>max</th>\n",
       "      <td>3079.000000</td>\n",
       "      <td>3086.000000</td>\n",
       "      <td>1.546000</td>\n",
       "      <td>40.605000</td>\n",
       "      <td>1.255000</td>\n",
       "      <td>9.120000</td>\n",
       "      <td>12.232727</td>\n",
       "      <td>0.182254</td>\n",
       "      <td>1.267089</td>\n",
       "      <td>137.046667</td>\n",
       "      <td>1.000000</td>\n",
       "    </tr>\n",
       "  </tbody>\n",
       "</table>\n",
       "</div>"
      ],
      "text/plain": [
       "       start_position  end_position   chou_fasman         emini  \\\n",
       "count    14896.000000  14896.000000  14896.000000  14896.000000   \n",
       "mean       308.773362    319.436292      0.994906      1.074277   \n",
       "std        358.462133    358.670345      0.123667      1.736873   \n",
       "min          1.000000      6.000000      0.534000      0.000000   \n",
       "25%         86.000000     96.000000      0.913000      0.244000   \n",
       "50%        197.000000    208.000000      0.991000      0.551000   \n",
       "75%        399.250000    411.000000      1.073000      1.207000   \n",
       "max       3079.000000   3086.000000      1.546000     40.605000   \n",
       "\n",
       "       kolaskar_tongaonkar        parker  isoelectric_point   aromaticity  \\\n",
       "count         14896.000000  14896.000000       14896.000000  14896.000000   \n",
       "mean              1.021807      1.749920           7.016036      0.077128   \n",
       "std               0.053430      1.955039           1.875898      0.026377   \n",
       "min               0.838000     -9.029000           3.686096      0.000000   \n",
       "25%               0.987000      0.600000           5.569763      0.062500   \n",
       "50%               1.021000      1.775000           6.447815      0.075949   \n",
       "75%               1.055000      2.962000           8.676575      0.093458   \n",
       "max               1.255000      9.120000          12.232727      0.182254   \n",
       "\n",
       "       hydrophobicity     stability        target  \n",
       "count    14896.000000  14896.000000  14896.000000  \n",
       "mean        -0.394228     43.343509      0.270677  \n",
       "std          0.392888     16.505895      0.444324  \n",
       "min         -1.971171      5.448936      0.000000  \n",
       "25%         -0.600131     31.725753      0.000000  \n",
       "50%         -0.318259     41.984246      0.000000  \n",
       "75%         -0.189591     49.101172      1.000000  \n",
       "max          1.267089    137.046667      1.000000  "
      ]
     },
     "execution_count": 132,
     "metadata": {},
     "output_type": "execute_result"
    }
   ],
   "source": [
    "Bcell_Sars.describe()"
   ]
  },
  {
   "cell_type": "markdown",
   "id": "6f512f1a",
   "metadata": {},
   "source": [
    "# use peptide seq in prediction is hard so we can replace it by it's length\n",
    "## use start and end position of piptide to compute its length"
   ]
  },
  {
   "cell_type": "code",
   "execution_count": 6,
   "id": "05f8043d",
   "metadata": {},
   "outputs": [],
   "source": [
    "# new column is created with the label “length” \n",
    "#which is the length between the start_position and end_position.\n",
    "for L in [Bcell_Sars,Covid]:\n",
    "    L['length'] = L['end_position'] - L['start_position'] + 1"
   ]
  },
  {
   "cell_type": "markdown",
   "id": "0d30d944",
   "metadata": {},
   "source": [
    "# ploting the correlation between columns"
   ]
  },
  {
   "cell_type": "code",
   "execution_count": 134,
   "id": "25315dda",
   "metadata": {},
   "outputs": [
    {
     "data": {
      "text/html": [
       "<style type=\"text/css\">\n",
       "#T_eb7fb_row0_col0, #T_eb7fb_row0_col1, #T_eb7fb_row1_col0, #T_eb7fb_row1_col1, #T_eb7fb_row2_col2, #T_eb7fb_row3_col3, #T_eb7fb_row4_col4, #T_eb7fb_row5_col5, #T_eb7fb_row6_col6, #T_eb7fb_row7_col7, #T_eb7fb_row8_col8, #T_eb7fb_row9_col9, #T_eb7fb_row10_col10, #T_eb7fb_row11_col11 {\n",
       "  background-color: #b40426;\n",
       "  color: #f1f1f1;\n",
       "}\n",
       "#T_eb7fb_row0_col2, #T_eb7fb_row1_col2 {\n",
       "  background-color: #abc8fd;\n",
       "  color: #000000;\n",
       "}\n",
       "#T_eb7fb_row0_col3, #T_eb7fb_row1_col3 {\n",
       "  background-color: #9bbcff;\n",
       "  color: #000000;\n",
       "}\n",
       "#T_eb7fb_row0_col4, #T_eb7fb_row1_col4, #T_eb7fb_row10_col4 {\n",
       "  background-color: #bed2f6;\n",
       "  color: #000000;\n",
       "}\n",
       "#T_eb7fb_row0_col5, #T_eb7fb_row1_col5 {\n",
       "  background-color: #bfd3f6;\n",
       "  color: #000000;\n",
       "}\n",
       "#T_eb7fb_row0_col6, #T_eb7fb_row1_col6, #T_eb7fb_row4_col2, #T_eb7fb_row4_col3, #T_eb7fb_row4_col5, #T_eb7fb_row5_col4, #T_eb7fb_row6_col0, #T_eb7fb_row6_col1, #T_eb7fb_row6_col10, #T_eb7fb_row6_col11, #T_eb7fb_row8_col9, #T_eb7fb_row9_col7, #T_eb7fb_row9_col8 {\n",
       "  background-color: #3b4cc0;\n",
       "  color: #f1f1f1;\n",
       "}\n",
       "#T_eb7fb_row0_col7, #T_eb7fb_row1_col7, #T_eb7fb_row7_col1 {\n",
       "  background-color: #ccd9ed;\n",
       "  color: #000000;\n",
       "}\n",
       "#T_eb7fb_row0_col8, #T_eb7fb_row1_col8, #T_eb7fb_row4_col7 {\n",
       "  background-color: #9fbfff;\n",
       "  color: #000000;\n",
       "}\n",
       "#T_eb7fb_row0_col9, #T_eb7fb_row1_col9, #T_eb7fb_row2_col6, #T_eb7fb_row8_col2 {\n",
       "  background-color: #80a3fa;\n",
       "  color: #f1f1f1;\n",
       "}\n",
       "#T_eb7fb_row0_col10 {\n",
       "  background-color: #4961d2;\n",
       "  color: #f1f1f1;\n",
       "}\n",
       "#T_eb7fb_row0_col11, #T_eb7fb_row10_col6 {\n",
       "  background-color: #5a78e4;\n",
       "  color: #f1f1f1;\n",
       "}\n",
       "#T_eb7fb_row1_col10, #T_eb7fb_row9_col11 {\n",
       "  background-color: #4a63d3;\n",
       "  color: #f1f1f1;\n",
       "}\n",
       "#T_eb7fb_row1_col11 {\n",
       "  background-color: #5f7fe8;\n",
       "  color: #f1f1f1;\n",
       "}\n",
       "#T_eb7fb_row2_col0, #T_eb7fb_row2_col1, #T_eb7fb_row3_col7 {\n",
       "  background-color: #88abfd;\n",
       "  color: #000000;\n",
       "}\n",
       "#T_eb7fb_row2_col3 {\n",
       "  background-color: #cfdaea;\n",
       "  color: #000000;\n",
       "}\n",
       "#T_eb7fb_row2_col4, #T_eb7fb_row7_col10, #T_eb7fb_row10_col0 {\n",
       "  background-color: #688aef;\n",
       "  color: #f1f1f1;\n",
       "}\n",
       "#T_eb7fb_row2_col5 {\n",
       "  background-color: #f39577;\n",
       "  color: #000000;\n",
       "}\n",
       "#T_eb7fb_row2_col7, #T_eb7fb_row3_col1 {\n",
       "  background-color: #7ea1fa;\n",
       "  color: #f1f1f1;\n",
       "}\n",
       "#T_eb7fb_row2_col8, #T_eb7fb_row2_col10, #T_eb7fb_row4_col6, #T_eb7fb_row5_col0, #T_eb7fb_row5_col1 {\n",
       "  background-color: #779af7;\n",
       "  color: #f1f1f1;\n",
       "}\n",
       "#T_eb7fb_row2_col9, #T_eb7fb_row10_col2 {\n",
       "  background-color: #b6cefa;\n",
       "  color: #000000;\n",
       "}\n",
       "#T_eb7fb_row2_col11 {\n",
       "  background-color: #5470de;\n",
       "  color: #f1f1f1;\n",
       "}\n",
       "#T_eb7fb_row3_col0 {\n",
       "  background-color: #7da0f9;\n",
       "  color: #f1f1f1;\n",
       "}\n",
       "#T_eb7fb_row3_col2 {\n",
       "  background-color: #d3dbe7;\n",
       "  color: #000000;\n",
       "}\n",
       "#T_eb7fb_row3_col4 {\n",
       "  background-color: #6f92f3;\n",
       "  color: #f1f1f1;\n",
       "}\n",
       "#T_eb7fb_row3_col5 {\n",
       "  background-color: #f7ba9f;\n",
       "  color: #000000;\n",
       "}\n",
       "#T_eb7fb_row3_col6, #T_eb7fb_row5_col6 {\n",
       "  background-color: #7a9df8;\n",
       "  color: #f1f1f1;\n",
       "}\n",
       "#T_eb7fb_row3_col8, #T_eb7fb_row7_col2, #T_eb7fb_row11_col2, #T_eb7fb_row11_col3 {\n",
       "  background-color: #a3c2fe;\n",
       "  color: #000000;\n",
       "}\n",
       "#T_eb7fb_row3_col9, #T_eb7fb_row9_col3 {\n",
       "  background-color: #97b8ff;\n",
       "  color: #000000;\n",
       "}\n",
       "#T_eb7fb_row3_col10, #T_eb7fb_row4_col0 {\n",
       "  background-color: #7597f6;\n",
       "  color: #f1f1f1;\n",
       "}\n",
       "#T_eb7fb_row3_col11, #T_eb7fb_row7_col9 {\n",
       "  background-color: #5b7ae5;\n",
       "  color: #f1f1f1;\n",
       "}\n",
       "#T_eb7fb_row4_col1 {\n",
       "  background-color: #7699f6;\n",
       "  color: #f1f1f1;\n",
       "}\n",
       "#T_eb7fb_row4_col8 {\n",
       "  background-color: #dddcdc;\n",
       "  color: #000000;\n",
       "}\n",
       "#T_eb7fb_row4_col9 {\n",
       "  background-color: #93b5fe;\n",
       "  color: #000000;\n",
       "}\n",
       "#T_eb7fb_row4_col10 {\n",
       "  background-color: #5572df;\n",
       "  color: #f1f1f1;\n",
       "}\n",
       "#T_eb7fb_row4_col11 {\n",
       "  background-color: #5d7ce6;\n",
       "  color: #f1f1f1;\n",
       "}\n",
       "#T_eb7fb_row5_col2 {\n",
       "  background-color: #f7a688;\n",
       "  color: #000000;\n",
       "}\n",
       "#T_eb7fb_row5_col3 {\n",
       "  background-color: #f1cdba;\n",
       "  color: #000000;\n",
       "}\n",
       "#T_eb7fb_row5_col7 {\n",
       "  background-color: #4b64d5;\n",
       "  color: #f1f1f1;\n",
       "}\n",
       "#T_eb7fb_row5_col8 {\n",
       "  background-color: #516ddb;\n",
       "  color: #f1f1f1;\n",
       "}\n",
       "#T_eb7fb_row5_col9 {\n",
       "  background-color: #afcafc;\n",
       "  color: #000000;\n",
       "}\n",
       "#T_eb7fb_row5_col10, #T_eb7fb_row9_col10, #T_eb7fb_row11_col6 {\n",
       "  background-color: #6687ed;\n",
       "  color: #f1f1f1;\n",
       "}\n",
       "#T_eb7fb_row5_col11 {\n",
       "  background-color: #506bda;\n",
       "  color: #f1f1f1;\n",
       "}\n",
       "#T_eb7fb_row6_col2, #T_eb7fb_row7_col3 {\n",
       "  background-color: #a5c3fe;\n",
       "  color: #000000;\n",
       "}\n",
       "#T_eb7fb_row6_col3 {\n",
       "  background-color: #98b9ff;\n",
       "  color: #000000;\n",
       "}\n",
       "#T_eb7fb_row6_col4 {\n",
       "  background-color: #c0d4f5;\n",
       "  color: #000000;\n",
       "}\n",
       "#T_eb7fb_row6_col5, #T_eb7fb_row11_col5 {\n",
       "  background-color: #c1d4f4;\n",
       "  color: #000000;\n",
       "}\n",
       "#T_eb7fb_row6_col7, #T_eb7fb_row7_col6 {\n",
       "  background-color: #445acc;\n",
       "  color: #f1f1f1;\n",
       "}\n",
       "#T_eb7fb_row6_col8 {\n",
       "  background-color: #6788ee;\n",
       "  color: #f1f1f1;\n",
       "}\n",
       "#T_eb7fb_row6_col9 {\n",
       "  background-color: #cdd9ec;\n",
       "  color: #000000;\n",
       "}\n",
       "#T_eb7fb_row7_col0 {\n",
       "  background-color: #cbd8ee;\n",
       "  color: #000000;\n",
       "}\n",
       "#T_eb7fb_row7_col4 {\n",
       "  background-color: #d8dce2;\n",
       "  color: #000000;\n",
       "}\n",
       "#T_eb7fb_row7_col5 {\n",
       "  background-color: #9ebeff;\n",
       "  color: #000000;\n",
       "}\n",
       "#T_eb7fb_row7_col8 {\n",
       "  background-color: #e1dad6;\n",
       "  color: #000000;\n",
       "}\n",
       "#T_eb7fb_row7_col11, #T_eb7fb_row8_col5, #T_eb7fb_row11_col0 {\n",
       "  background-color: #85a8fc;\n",
       "  color: #f1f1f1;\n",
       "}\n",
       "#T_eb7fb_row8_col0, #T_eb7fb_row8_col1 {\n",
       "  background-color: #81a4fb;\n",
       "  color: #f1f1f1;\n",
       "}\n",
       "#T_eb7fb_row8_col3, #T_eb7fb_row10_col9 {\n",
       "  background-color: #a2c1ff;\n",
       "  color: #000000;\n",
       "}\n",
       "#T_eb7fb_row8_col4 {\n",
       "  background-color: #f0cdbb;\n",
       "  color: #000000;\n",
       "}\n",
       "#T_eb7fb_row8_col6 {\n",
       "  background-color: #455cce;\n",
       "  color: #f1f1f1;\n",
       "}\n",
       "#T_eb7fb_row8_col7 {\n",
       "  background-color: #d2dbe8;\n",
       "  color: #000000;\n",
       "}\n",
       "#T_eb7fb_row8_col10 {\n",
       "  background-color: #7b9ff9;\n",
       "  color: #f1f1f1;\n",
       "}\n",
       "#T_eb7fb_row8_col11 {\n",
       "  background-color: #6384eb;\n",
       "  color: #f1f1f1;\n",
       "}\n",
       "#T_eb7fb_row9_col0, #T_eb7fb_row9_col1 {\n",
       "  background-color: #5e7de7;\n",
       "  color: #f1f1f1;\n",
       "}\n",
       "#T_eb7fb_row9_col2 {\n",
       "  background-color: #bbd1f8;\n",
       "  color: #000000;\n",
       "}\n",
       "#T_eb7fb_row9_col4 {\n",
       "  background-color: #bcd2f7;\n",
       "  color: #000000;\n",
       "}\n",
       "#T_eb7fb_row9_col5 {\n",
       "  background-color: #d1dae9;\n",
       "  color: #000000;\n",
       "}\n",
       "#T_eb7fb_row9_col6 {\n",
       "  background-color: #b7cff9;\n",
       "  color: #000000;\n",
       "}\n",
       "#T_eb7fb_row10_col1 {\n",
       "  background-color: #6a8bef;\n",
       "  color: #f1f1f1;\n",
       "}\n",
       "#T_eb7fb_row10_col3 {\n",
       "  background-color: #aec9fc;\n",
       "  color: #000000;\n",
       "}\n",
       "#T_eb7fb_row10_col5 {\n",
       "  background-color: #c7d7f0;\n",
       "  color: #000000;\n",
       "}\n",
       "#T_eb7fb_row10_col7 {\n",
       "  background-color: #86a9fc;\n",
       "  color: #f1f1f1;\n",
       "}\n",
       "#T_eb7fb_row10_col8 {\n",
       "  background-color: #b3cdfb;\n",
       "  color: #000000;\n",
       "}\n",
       "#T_eb7fb_row10_col11 {\n",
       "  background-color: #6282ea;\n",
       "  color: #f1f1f1;\n",
       "}\n",
       "#T_eb7fb_row11_col1 {\n",
       "  background-color: #89acfd;\n",
       "  color: #000000;\n",
       "}\n",
       "#T_eb7fb_row11_col4 {\n",
       "  background-color: #cad8ef;\n",
       "  color: #000000;\n",
       "}\n",
       "#T_eb7fb_row11_col7, #T_eb7fb_row11_col8 {\n",
       "  background-color: #aac7fd;\n",
       "  color: #000000;\n",
       "}\n",
       "#T_eb7fb_row11_col9 {\n",
       "  background-color: #94b6ff;\n",
       "  color: #000000;\n",
       "}\n",
       "#T_eb7fb_row11_col10 {\n",
       "  background-color: #6e90f2;\n",
       "  color: #f1f1f1;\n",
       "}\n",
       "</style>\n",
       "<table id=\"T_eb7fb_\">\n",
       "  <thead>\n",
       "    <tr>\n",
       "      <th class=\"blank level0\" >&nbsp;</th>\n",
       "      <th class=\"col_heading level0 col0\" >start_position</th>\n",
       "      <th class=\"col_heading level0 col1\" >end_position</th>\n",
       "      <th class=\"col_heading level0 col2\" >chou_fasman</th>\n",
       "      <th class=\"col_heading level0 col3\" >emini</th>\n",
       "      <th class=\"col_heading level0 col4\" >kolaskar_tongaonkar</th>\n",
       "      <th class=\"col_heading level0 col5\" >parker</th>\n",
       "      <th class=\"col_heading level0 col6\" >isoelectric_point</th>\n",
       "      <th class=\"col_heading level0 col7\" >aromaticity</th>\n",
       "      <th class=\"col_heading level0 col8\" >hydrophobicity</th>\n",
       "      <th class=\"col_heading level0 col9\" >stability</th>\n",
       "      <th class=\"col_heading level0 col10\" >target</th>\n",
       "      <th class=\"col_heading level0 col11\" >length</th>\n",
       "    </tr>\n",
       "  </thead>\n",
       "  <tbody>\n",
       "    <tr>\n",
       "      <th id=\"T_eb7fb_level0_row0\" class=\"row_heading level0 row0\" >start_position</th>\n",
       "      <td id=\"T_eb7fb_row0_col0\" class=\"data row0 col0\" >1.000</td>\n",
       "      <td id=\"T_eb7fb_row0_col1\" class=\"data row0 col1\" >1.000</td>\n",
       "      <td id=\"T_eb7fb_row0_col2\" class=\"data row0 col2\" >0.043</td>\n",
       "      <td id=\"T_eb7fb_row0_col3\" class=\"data row0 col3\" >0.004</td>\n",
       "      <td id=\"T_eb7fb_row0_col4\" class=\"data row0 col4\" >-0.024</td>\n",
       "      <td id=\"T_eb7fb_row0_col5\" class=\"data row0 col5\" >-0.017</td>\n",
       "      <td id=\"T_eb7fb_row0_col6\" class=\"data row0 col6\" >-0.255</td>\n",
       "      <td id=\"T_eb7fb_row0_col7\" class=\"data row0 col7\" >0.294</td>\n",
       "      <td id=\"T_eb7fb_row0_col8\" class=\"data row0 col8\" >0.018</td>\n",
       "      <td id=\"T_eb7fb_row0_col9\" class=\"data row0 col9\" >-0.111</td>\n",
       "      <td id=\"T_eb7fb_row0_col10\" class=\"data row0 col10\" >-0.070</td>\n",
       "      <td id=\"T_eb7fb_row0_col11\" class=\"data row0 col11\" >0.030</td>\n",
       "    </tr>\n",
       "    <tr>\n",
       "      <th id=\"T_eb7fb_level0_row1\" class=\"row_heading level0 row1\" >end_position</th>\n",
       "      <td id=\"T_eb7fb_row1_col0\" class=\"data row1 col0\" >1.000</td>\n",
       "      <td id=\"T_eb7fb_row1_col1\" class=\"data row1 col1\" >1.000</td>\n",
       "      <td id=\"T_eb7fb_row1_col2\" class=\"data row1 col2\" >0.043</td>\n",
       "      <td id=\"T_eb7fb_row1_col3\" class=\"data row1 col3\" >0.004</td>\n",
       "      <td id=\"T_eb7fb_row1_col4\" class=\"data row1 col4\" >-0.024</td>\n",
       "      <td id=\"T_eb7fb_row1_col5\" class=\"data row1 col5\" >-0.017</td>\n",
       "      <td id=\"T_eb7fb_row1_col6\" class=\"data row1 col6\" >-0.256</td>\n",
       "      <td id=\"T_eb7fb_row1_col7\" class=\"data row1 col7\" >0.296</td>\n",
       "      <td id=\"T_eb7fb_row1_col8\" class=\"data row1 col8\" >0.019</td>\n",
       "      <td id=\"T_eb7fb_row1_col9\" class=\"data row1 col9\" >-0.111</td>\n",
       "      <td id=\"T_eb7fb_row1_col10\" class=\"data row1 col10\" >-0.069</td>\n",
       "      <td id=\"T_eb7fb_row1_col11\" class=\"data row1 col11\" >0.046</td>\n",
       "    </tr>\n",
       "    <tr>\n",
       "      <th id=\"T_eb7fb_level0_row2\" class=\"row_heading level0 row2\" >chou_fasman</th>\n",
       "      <td id=\"T_eb7fb_row2_col0\" class=\"data row2 col0\" >0.043</td>\n",
       "      <td id=\"T_eb7fb_row2_col1\" class=\"data row2 col1\" >0.043</td>\n",
       "      <td id=\"T_eb7fb_row2_col2\" class=\"data row2 col2\" >1.000</td>\n",
       "      <td id=\"T_eb7fb_row2_col3\" class=\"data row2 col3\" >0.226</td>\n",
       "      <td id=\"T_eb7fb_row2_col4\" class=\"data row2 col4\" >-0.445</td>\n",
       "      <td id=\"T_eb7fb_row2_col5\" class=\"data row2 col5\" >0.592</td>\n",
       "      <td id=\"T_eb7fb_row2_col6\" class=\"data row2 col6\" >0.014</td>\n",
       "      <td id=\"T_eb7fb_row2_col7\" class=\"data row2 col7\" >0.007</td>\n",
       "      <td id=\"T_eb7fb_row2_col8\" class=\"data row2 col8\" >-0.140</td>\n",
       "      <td id=\"T_eb7fb_row2_col9\" class=\"data row2 col9\" >0.114</td>\n",
       "      <td id=\"T_eb7fb_row2_col10\" class=\"data row2 col10\" >0.086</td>\n",
       "      <td id=\"T_eb7fb_row2_col11\" class=\"data row2 col11\" >0.008</td>\n",
       "    </tr>\n",
       "    <tr>\n",
       "      <th id=\"T_eb7fb_level0_row3\" class=\"row_heading level0 row3\" >emini</th>\n",
       "      <td id=\"T_eb7fb_row3_col0\" class=\"data row3 col0\" >0.004</td>\n",
       "      <td id=\"T_eb7fb_row3_col1\" class=\"data row3 col1\" >0.004</td>\n",
       "      <td id=\"T_eb7fb_row3_col2\" class=\"data row3 col2\" >0.226</td>\n",
       "      <td id=\"T_eb7fb_row3_col3\" class=\"data row3 col3\" >1.000</td>\n",
       "      <td id=\"T_eb7fb_row3_col4\" class=\"data row3 col4\" >-0.407</td>\n",
       "      <td id=\"T_eb7fb_row3_col5\" class=\"data row3 col5\" >0.425</td>\n",
       "      <td id=\"T_eb7fb_row3_col6\" class=\"data row3 col6\" >-0.008</td>\n",
       "      <td id=\"T_eb7fb_row3_col7\" class=\"data row3 col7\" >0.042</td>\n",
       "      <td id=\"T_eb7fb_row3_col8\" class=\"data row3 col8\" >0.032</td>\n",
       "      <td id=\"T_eb7fb_row3_col9\" class=\"data row3 col9\" >-0.013</td>\n",
       "      <td id=\"T_eb7fb_row3_col10\" class=\"data row3 col10\" >0.080</td>\n",
       "      <td id=\"T_eb7fb_row3_col11\" class=\"data row3 col11\" >0.036</td>\n",
       "    </tr>\n",
       "    <tr>\n",
       "      <th id=\"T_eb7fb_level0_row4\" class=\"row_heading level0 row4\" >kolaskar_tongaonkar</th>\n",
       "      <td id=\"T_eb7fb_row4_col0\" class=\"data row4 col0\" >-0.024</td>\n",
       "      <td id=\"T_eb7fb_row4_col1\" class=\"data row4 col1\" >-0.024</td>\n",
       "      <td id=\"T_eb7fb_row4_col2\" class=\"data row4 col2\" >-0.445</td>\n",
       "      <td id=\"T_eb7fb_row4_col3\" class=\"data row4 col3\" >-0.407</td>\n",
       "      <td id=\"T_eb7fb_row4_col4\" class=\"data row4 col4\" >1.000</td>\n",
       "      <td id=\"T_eb7fb_row4_col5\" class=\"data row4 col5\" >-0.689</td>\n",
       "      <td id=\"T_eb7fb_row4_col6\" class=\"data row4 col6\" >-0.016</td>\n",
       "      <td id=\"T_eb7fb_row4_col7\" class=\"data row4 col7\" >0.124</td>\n",
       "      <td id=\"T_eb7fb_row4_col8\" class=\"data row4 col8\" >0.301</td>\n",
       "      <td id=\"T_eb7fb_row4_col9\" class=\"data row4 col9\" >-0.032</td>\n",
       "      <td id=\"T_eb7fb_row4_col10\" class=\"data row4 col10\" >-0.029</td>\n",
       "      <td id=\"T_eb7fb_row4_col11\" class=\"data row4 col11\" >0.037</td>\n",
       "    </tr>\n",
       "    <tr>\n",
       "      <th id=\"T_eb7fb_level0_row5\" class=\"row_heading level0 row5\" >parker</th>\n",
       "      <td id=\"T_eb7fb_row5_col0\" class=\"data row5 col0\" >-0.017</td>\n",
       "      <td id=\"T_eb7fb_row5_col1\" class=\"data row5 col1\" >-0.017</td>\n",
       "      <td id=\"T_eb7fb_row5_col2\" class=\"data row5 col2\" >0.592</td>\n",
       "      <td id=\"T_eb7fb_row5_col3\" class=\"data row5 col3\" >0.425</td>\n",
       "      <td id=\"T_eb7fb_row5_col4\" class=\"data row5 col4\" >-0.689</td>\n",
       "      <td id=\"T_eb7fb_row5_col5\" class=\"data row5 col5\" >1.000</td>\n",
       "      <td id=\"T_eb7fb_row5_col6\" class=\"data row5 col6\" >-0.008</td>\n",
       "      <td id=\"T_eb7fb_row5_col7\" class=\"data row5 col7\" >-0.186</td>\n",
       "      <td id=\"T_eb7fb_row5_col8\" class=\"data row5 col8\" >-0.301</td>\n",
       "      <td id=\"T_eb7fb_row5_col9\" class=\"data row5 col9\" >0.083</td>\n",
       "      <td id=\"T_eb7fb_row5_col10\" class=\"data row5 col10\" >0.029</td>\n",
       "      <td id=\"T_eb7fb_row5_col11\" class=\"data row5 col11\" >-0.005</td>\n",
       "    </tr>\n",
       "    <tr>\n",
       "      <th id=\"T_eb7fb_level0_row6\" class=\"row_heading level0 row6\" >isoelectric_point</th>\n",
       "      <td id=\"T_eb7fb_row6_col0\" class=\"data row6 col0\" >-0.255</td>\n",
       "      <td id=\"T_eb7fb_row6_col1\" class=\"data row6 col1\" >-0.256</td>\n",
       "      <td id=\"T_eb7fb_row6_col2\" class=\"data row6 col2\" >0.014</td>\n",
       "      <td id=\"T_eb7fb_row6_col3\" class=\"data row6 col3\" >-0.008</td>\n",
       "      <td id=\"T_eb7fb_row6_col4\" class=\"data row6 col4\" >-0.016</td>\n",
       "      <td id=\"T_eb7fb_row6_col5\" class=\"data row6 col5\" >-0.008</td>\n",
       "      <td id=\"T_eb7fb_row6_col6\" class=\"data row6 col6\" >1.000</td>\n",
       "      <td id=\"T_eb7fb_row6_col7\" class=\"data row6 col7\" >-0.214</td>\n",
       "      <td id=\"T_eb7fb_row6_col8\" class=\"data row6 col8\" >-0.211</td>\n",
       "      <td id=\"T_eb7fb_row6_col9\" class=\"data row6 col9\" >0.214</td>\n",
       "      <td id=\"T_eb7fb_row6_col10\" class=\"data row6 col10\" >-0.127</td>\n",
       "      <td id=\"T_eb7fb_row6_col11\" class=\"data row6 col11\" >-0.082</td>\n",
       "    </tr>\n",
       "    <tr>\n",
       "      <th id=\"T_eb7fb_level0_row7\" class=\"row_heading level0 row7\" >aromaticity</th>\n",
       "      <td id=\"T_eb7fb_row7_col0\" class=\"data row7 col0\" >0.294</td>\n",
       "      <td id=\"T_eb7fb_row7_col1\" class=\"data row7 col1\" >0.296</td>\n",
       "      <td id=\"T_eb7fb_row7_col2\" class=\"data row7 col2\" >0.007</td>\n",
       "      <td id=\"T_eb7fb_row7_col3\" class=\"data row7 col3\" >0.042</td>\n",
       "      <td id=\"T_eb7fb_row7_col4\" class=\"data row7 col4\" >0.124</td>\n",
       "      <td id=\"T_eb7fb_row7_col5\" class=\"data row7 col5\" >-0.186</td>\n",
       "      <td id=\"T_eb7fb_row7_col6\" class=\"data row7 col6\" >-0.214</td>\n",
       "      <td id=\"T_eb7fb_row7_col7\" class=\"data row7 col7\" >1.000</td>\n",
       "      <td id=\"T_eb7fb_row7_col8\" class=\"data row7 col8\" >0.323</td>\n",
       "      <td id=\"T_eb7fb_row7_col9\" class=\"data row7 col9\" >-0.256</td>\n",
       "      <td id=\"T_eb7fb_row7_col10\" class=\"data row7 col10\" >0.036</td>\n",
       "      <td id=\"T_eb7fb_row7_col11\" class=\"data row7 col11\" >0.163</td>\n",
       "    </tr>\n",
       "    <tr>\n",
       "      <th id=\"T_eb7fb_level0_row8\" class=\"row_heading level0 row8\" >hydrophobicity</th>\n",
       "      <td id=\"T_eb7fb_row8_col0\" class=\"data row8 col0\" >0.018</td>\n",
       "      <td id=\"T_eb7fb_row8_col1\" class=\"data row8 col1\" >0.019</td>\n",
       "      <td id=\"T_eb7fb_row8_col2\" class=\"data row8 col2\" >-0.140</td>\n",
       "      <td id=\"T_eb7fb_row8_col3\" class=\"data row8 col3\" >0.032</td>\n",
       "      <td id=\"T_eb7fb_row8_col4\" class=\"data row8 col4\" >0.301</td>\n",
       "      <td id=\"T_eb7fb_row8_col5\" class=\"data row8 col5\" >-0.301</td>\n",
       "      <td id=\"T_eb7fb_row8_col6\" class=\"data row8 col6\" >-0.211</td>\n",
       "      <td id=\"T_eb7fb_row8_col7\" class=\"data row8 col7\" >0.323</td>\n",
       "      <td id=\"T_eb7fb_row8_col8\" class=\"data row8 col8\" >1.000</td>\n",
       "      <td id=\"T_eb7fb_row8_col9\" class=\"data row8 col9\" >-0.409</td>\n",
       "      <td id=\"T_eb7fb_row8_col10\" class=\"data row8 col10\" >0.100</td>\n",
       "      <td id=\"T_eb7fb_row8_col11\" class=\"data row8 col11\" >0.060</td>\n",
       "    </tr>\n",
       "    <tr>\n",
       "      <th id=\"T_eb7fb_level0_row9\" class=\"row_heading level0 row9\" >stability</th>\n",
       "      <td id=\"T_eb7fb_row9_col0\" class=\"data row9 col0\" >-0.111</td>\n",
       "      <td id=\"T_eb7fb_row9_col1\" class=\"data row9 col1\" >-0.111</td>\n",
       "      <td id=\"T_eb7fb_row9_col2\" class=\"data row9 col2\" >0.114</td>\n",
       "      <td id=\"T_eb7fb_row9_col3\" class=\"data row9 col3\" >-0.013</td>\n",
       "      <td id=\"T_eb7fb_row9_col4\" class=\"data row9 col4\" >-0.032</td>\n",
       "      <td id=\"T_eb7fb_row9_col5\" class=\"data row9 col5\" >0.083</td>\n",
       "      <td id=\"T_eb7fb_row9_col6\" class=\"data row9 col6\" >0.214</td>\n",
       "      <td id=\"T_eb7fb_row9_col7\" class=\"data row9 col7\" >-0.256</td>\n",
       "      <td id=\"T_eb7fb_row9_col8\" class=\"data row9 col8\" >-0.409</td>\n",
       "      <td id=\"T_eb7fb_row9_col9\" class=\"data row9 col9\" >1.000</td>\n",
       "      <td id=\"T_eb7fb_row9_col10\" class=\"data row9 col10\" >0.031</td>\n",
       "      <td id=\"T_eb7fb_row9_col11\" class=\"data row9 col11\" >-0.026</td>\n",
       "    </tr>\n",
       "    <tr>\n",
       "      <th id=\"T_eb7fb_level0_row10\" class=\"row_heading level0 row10\" >target</th>\n",
       "      <td id=\"T_eb7fb_row10_col0\" class=\"data row10 col0\" >-0.070</td>\n",
       "      <td id=\"T_eb7fb_row10_col1\" class=\"data row10 col1\" >-0.069</td>\n",
       "      <td id=\"T_eb7fb_row10_col2\" class=\"data row10 col2\" >0.086</td>\n",
       "      <td id=\"T_eb7fb_row10_col3\" class=\"data row10 col3\" >0.080</td>\n",
       "      <td id=\"T_eb7fb_row10_col4\" class=\"data row10 col4\" >-0.029</td>\n",
       "      <td id=\"T_eb7fb_row10_col5\" class=\"data row10 col5\" >0.029</td>\n",
       "      <td id=\"T_eb7fb_row10_col6\" class=\"data row10 col6\" >-0.127</td>\n",
       "      <td id=\"T_eb7fb_row10_col7\" class=\"data row10 col7\" >0.036</td>\n",
       "      <td id=\"T_eb7fb_row10_col8\" class=\"data row10 col8\" >0.100</td>\n",
       "      <td id=\"T_eb7fb_row10_col9\" class=\"data row10 col9\" >0.031</td>\n",
       "      <td id=\"T_eb7fb_row10_col10\" class=\"data row10 col10\" >1.000</td>\n",
       "      <td id=\"T_eb7fb_row10_col11\" class=\"data row10 col11\" >0.055</td>\n",
       "    </tr>\n",
       "    <tr>\n",
       "      <th id=\"T_eb7fb_level0_row11\" class=\"row_heading level0 row11\" >length</th>\n",
       "      <td id=\"T_eb7fb_row11_col0\" class=\"data row11 col0\" >0.030</td>\n",
       "      <td id=\"T_eb7fb_row11_col1\" class=\"data row11 col1\" >0.046</td>\n",
       "      <td id=\"T_eb7fb_row11_col2\" class=\"data row11 col2\" >0.008</td>\n",
       "      <td id=\"T_eb7fb_row11_col3\" class=\"data row11 col3\" >0.036</td>\n",
       "      <td id=\"T_eb7fb_row11_col4\" class=\"data row11 col4\" >0.037</td>\n",
       "      <td id=\"T_eb7fb_row11_col5\" class=\"data row11 col5\" >-0.005</td>\n",
       "      <td id=\"T_eb7fb_row11_col6\" class=\"data row11 col6\" >-0.082</td>\n",
       "      <td id=\"T_eb7fb_row11_col7\" class=\"data row11 col7\" >0.163</td>\n",
       "      <td id=\"T_eb7fb_row11_col8\" class=\"data row11 col8\" >0.060</td>\n",
       "      <td id=\"T_eb7fb_row11_col9\" class=\"data row11 col9\" >-0.026</td>\n",
       "      <td id=\"T_eb7fb_row11_col10\" class=\"data row11 col10\" >0.055</td>\n",
       "      <td id=\"T_eb7fb_row11_col11\" class=\"data row11 col11\" >1.000</td>\n",
       "    </tr>\n",
       "  </tbody>\n",
       "</table>\n"
      ],
      "text/plain": [
       "<pandas.io.formats.style.Styler at 0x205d6436940>"
      ]
     },
     "execution_count": 134,
     "metadata": {},
     "output_type": "execute_result"
    }
   ],
   "source": [
    "# from sklearn.preprocessing import Normalizer\n",
    "# scaler = Normalizer(copy=True, norm='l2')\n",
    "# Bcell_Sars[['emini','stability','length']] = scaler.fit_transform(Bcell_Sars[['emini','stability','length']])\n",
    "\n",
    "corr = Bcell_Sars.corr()\n",
    "corr.style.background_gradient(cmap='coolwarm').format(precision=3)"
   ]
  },
  {
   "cell_type": "code",
   "execution_count": null,
   "id": "0b45d5f6",
   "metadata": {},
   "outputs": [],
   "source": []
  },
  {
   "cell_type": "markdown",
   "id": "e220a551",
   "metadata": {},
   "source": [
    "# Drop and Split Data \n",
    "## split data to 30 testing and 70% training\n"
   ]
  },
  {
   "cell_type": "code",
   "execution_count": 7,
   "id": "f5ff6688",
   "metadata": {},
   "outputs": [],
   "source": [
    "X_Bcell_Sars=Bcell_Sars.drop(['parent_protein_id','protein_seq','start_position',\n",
    "                              'end_position','peptide_seq','target'],axis=1)\n",
    "Y_Bcell_Sars=Bcell_Sars.target\n",
    "x_train,x_test,y_train,y_test= train_test_split(X_Bcell_Sars,Y_Bcell_Sars,test_size=0.20,random_state=None)\n"
   ]
  },
  {
   "cell_type": "code",
   "execution_count": 136,
   "id": "9e965359",
   "metadata": {},
   "outputs": [],
   "source": [
    "# from sklearn.feature_selection import SelectPercentile\n",
    "# from sklearn.feature_selection import f_classif \n",
    "# FeatureSelection = SelectPercentile(score_func= f_classif,percentile=70) # score_func can = f_classif : mode can = percentile,fpr,fdr,fwe \n",
    "# X = FeatureSelection.fit_transform(X_Bcell_Sars, Y_Bcell_Sars)\n",
    "# P = FeatureSelection.get_support()\n",
    "# c = list(X_Bcell_Sars.columns)\n",
    "# for i in range(len(X_Bcell_Sars.columns)):\n",
    "#     print(\"{:<20}{:<30}\".format(c[i],P[i]))"
   ]
  },
  {
   "cell_type": "code",
   "execution_count": 137,
   "id": "c3826136",
   "metadata": {},
   "outputs": [],
   "source": [
    "# X_Bcell_Sars=Bcell_Sars[['chou_fasman','emini','isoelectric_point',\n",
    "#                               'aromaticity','hydrophobicity','length']]\n",
    "\n"
   ]
  },
  {
   "cell_type": "markdown",
   "id": "05cb879f",
   "metadata": {},
   "source": [
    "# Find the minimum and maximum values "
   ]
  },
  {
   "cell_type": "code",
   "execution_count": 138,
   "id": "7bccaf29",
   "metadata": {},
   "outputs": [
    {
     "name": "stdout",
     "output_type": "stream",
     "text": [
      "chou_fasman min                          chou_fasman max                         \n",
      "0.534                                    1.546                                   \n",
      "emini min                                emini max                               \n",
      "0.0                                      40.605                                  \n",
      "kolaskar_tongaonkar min                  kolaskar_tongaonkar max                 \n",
      "0.838                                    1.255                                   \n",
      "parker min                               parker max                              \n",
      "-9.029                                   9.12                                    \n",
      "isoelectric_point min                    isoelectric_point max                   \n",
      "3.6861                                   12.2327                                 \n",
      "aromaticity min                          aromaticity max                         \n",
      "0.0                                      0.1823                                  \n",
      "hydrophobicity min                       hydrophobicity max                      \n",
      "-1.9712                                  1.2671                                  \n",
      "stability min                            stability max                           \n",
      "5.4489                                   137.0467                                \n",
      "length min                               length max                              \n",
      "5                                        393                                     \n"
     ]
    }
   ],
   "source": [
    "for i in X_Bcell_Sars.columns:\n",
    "    print(\"{:<40} {:<40}\".format(i+' min',i+' max'))\n",
    "    print(\"{:<40} {:<40}\".format(round(X_Bcell_Sars[i].min(),4),round(X_Bcell_Sars[i].max(),4)))\n"
   ]
  },
  {
   "cell_type": "markdown",
   "id": "cc3af7a5",
   "metadata": {},
   "source": [
    "# the aim of this graph is showing the values and its count\n",
    "#### Find the minimum and maximum values to determine the range of values to make a decision if Decrease the range of values using a maximal reduction or not"
   ]
  },
  {
   "cell_type": "code",
   "execution_count": 139,
   "id": "bcbde1c9",
   "metadata": {},
   "outputs": [
    {
     "data": {
      "text/plain": [
       "array([[<AxesSubplot:title={'center':'chou_fasman'}>,\n",
       "        <AxesSubplot:title={'center':'emini'}>,\n",
       "        <AxesSubplot:title={'center':'kolaskar_tongaonkar'}>],\n",
       "       [<AxesSubplot:title={'center':'parker'}>,\n",
       "        <AxesSubplot:title={'center':'isoelectric_point'}>,\n",
       "        <AxesSubplot:title={'center':'aromaticity'}>],\n",
       "       [<AxesSubplot:title={'center':'hydrophobicity'}>,\n",
       "        <AxesSubplot:title={'center':'stability'}>,\n",
       "        <AxesSubplot:title={'center':'length'}>]], dtype=object)"
      ]
     },
     "execution_count": 139,
     "metadata": {},
     "output_type": "execute_result"
    },
    {
     "data": {
      "image/png": "[encoded data removed]",
      "text/plain": [
       "<Figure size 1080x1080 with 9 Axes>"
      ]
     },
     "metadata": {
      "needs_background": "light"
     },
     "output_type": "display_data"
    }
   ],
   "source": [
    "X_Bcell_Sars.hist(grid=False, figsize=(15, 15), bins=75)"
   ]
  },
  {
   "cell_type": "code",
   "execution_count": 140,
   "id": "575b980f",
   "metadata": {},
   "outputs": [],
   "source": [
    "# c = X_Bcell_Sars.shape[0]\n",
    "# for i in range(c):\n",
    "#     if X_Bcell_Sars['stability'][i]>80:\n",
    "#         X_Bcell_Sars['stability'][i]=80\n",
    "# X_Bcell_Sars.stability.hist(grid=False, figsize=(4, 4), bins=25)"
   ]
  },
  {
   "cell_type": "code",
   "execution_count": null,
   "id": "d5ea1ea8",
   "metadata": {},
   "outputs": [],
   "source": []
  },
  {
   "cell_type": "markdown",
   "id": "8cd15fb5",
   "metadata": {
    "scrolled": true
   },
   "source": [
    "# our data is binary classificition [0,1]\n",
    "## so we applyed he most machine learning classification \n",
    "### 1- Logistic Regression\n",
    "### 2- Super vactor macine \n",
    "### 3- Random Forest\n",
    "### 4-Gradient Boosting Classifier"
   ]
  },
  {
   "cell_type": "markdown",
   "id": "958a8a2a",
   "metadata": {},
   "source": [
    "# Logistic Regression model 73%"
   ]
  },
  {
   "cell_type": "code",
   "execution_count": 19,
   "id": "87f84b3c",
   "metadata": {},
   "outputs": [
    {
     "name": "stdout",
     "output_type": "stream",
     "text": [
      "LogisticRegressionModel Train Score is :  0.7311178247734139\n",
      "LogisticRegressionModel Test Score is :  0.7375838926174496\n",
      "----------------------------------------------------\n"
     ]
    }
   ],
   "source": [
    "from sklearn.linear_model import LogisticRegression # classification algorithm\n",
    "LogisticRegressionModel = LogisticRegression(solver='liblinear',C=1.0,random_state=None)\n",
    "LogisticRegressionModel.fit(x_train, y_train)\n",
    "\n",
    "#Calculating Details\n",
    "print('LogisticRegressionModel Train Score is : ' , LogisticRegressionModel.score(x_train, y_train))\n",
    "print('LogisticRegressionModel Test Score is : ' , LogisticRegressionModel.score(x_test, y_test))\n",
    "print('----------------------------------------------------')\n",
    "ypredLRM = LogisticRegressionModel.predict(x_test)\n",
    "ypredLRM=pd.DataFrame(ypredLRM)\n"
   ]
  },
  {
   "cell_type": "markdown",
   "id": "97266ba1",
   "metadata": {},
   "source": [
    "## Model report"
   ]
  },
  {
   "cell_type": "code",
   "execution_count": 174,
   "id": "bcf4d0c5",
   "metadata": {},
   "outputs": [
    {
     "data": {
      "image/png": "[encoded data removed]",
      "text/plain": [
       "<IPython.core.display.Image object>"
      ]
     },
     "execution_count": 174,
     "metadata": {},
     "output_type": "execute_result"
    }
   ],
   "source": [
    "Image(\"./images/0_GR1VO6PTxACgd6ub.png\")"
   ]
  },
  {
   "cell_type": "code",
   "execution_count": 20,
   "id": "86656434",
   "metadata": {},
   "outputs": [
    {
     "name": "stdout",
     "output_type": "stream",
     "text": [
      "[[2158   34]\n",
      " [ 748   40]]\n",
      "\n",
      "recall_score for y_ypredLRM\t 0.050761421319796954 \n",
      "precision_score for y_ypredLRM\t 0.5405405405405406\n"
     ]
    }
   ],
   "source": [
    "from sklearn.metrics import confusion_matrix\n",
    "confusion_matrix1 = confusion_matrix(y_test, ypredLRM)\n",
    "R=recall_score(y_test, ypredLRM, average='binary')\n",
    "P=precision_score(y_test, ypredLRM, average='binary')\n",
    "print(confusion_matrix1)\n",
    "print(\"\\nrecall_score for y_ypredLRM\\t\",R,'\\nprecision_score for y_ypredLRM\\t',P)\n"
   ]
  },
  {
   "cell_type": "code",
   "execution_count": 21,
   "id": "c410852e",
   "metadata": {},
   "outputs": [
    {
     "data": {
      "text/plain": [
       "(0    2906\n",
       " 1      74\n",
       " dtype: int64,\n",
       " 0    2192\n",
       " 1     788\n",
       " Name: target, dtype: int64)"
      ]
     },
     "execution_count": 21,
     "metadata": {},
     "output_type": "execute_result"
    }
   ],
   "source": [
    "ypredLRM.value_counts(),y_test.value_counts()"
   ]
  },
  {
   "cell_type": "code",
   "execution_count": 226,
   "id": "5a05d7d8",
   "metadata": {},
   "outputs": [
    {
     "data": {
      "text/plain": [
       "[<matplotlib.lines.Line2D at 0x205ec614940>]"
      ]
     },
     "execution_count": 226,
     "metadata": {},
     "output_type": "execute_result"
    },
    {
     "data": {
      "image/png": "[encoded data removed]",
      "text/plain": [
       "<Figure size 432x288 with 1 Axes>"
      ]
     },
     "metadata": {
      "needs_background": "light"
     },
     "output_type": "display_data"
    }
   ],
   "source": [
    "estimator = LogisticRegression()\n",
    "\n",
    "train_sizes, train_scores, test_scores= learning_curve(estimator, X_Bcell_Sars,Y_Bcell_Sars, cv=20)\n",
    "plt.plot(train_sizes,np.mean(train_scores,axis=1))\n",
    "plt.plot(train_sizes,np.mean(test_scores,axis=1))\n"
   ]
  },
  {
   "cell_type": "markdown",
   "id": "01726cc2",
   "metadata": {},
   "source": [
    "# SVM -> SVC model 72"
   ]
  },
  {
   "cell_type": "code",
   "execution_count": 14,
   "id": "e6533e6f",
   "metadata": {},
   "outputs": [
    {
     "name": "stdout",
     "output_type": "stream",
     "text": [
      "SVCModel Train Score is :  0.7285162806310842\n",
      "SVCModel Test Score is :  0.7359060402684564\n",
      "----------------------------------------------------\n"
     ]
    }
   ],
   "source": [
    "from sklearn.svm import SVC\n",
    "SVCModel = SVC(kernel= 'rbf')\n",
    "SVCModel.fit(x_train, y_train)\n",
    "\n",
    "#Calculating Details\n",
    "print('SVCModel Train Score is : ' , SVCModel.score(x_train, y_train))\n",
    "print('SVCModel Test Score is : ' , SVCModel.score(x_test, y_test))\n",
    "print('----------------------------------------------------')\n",
    "ypredSVC = SVCModel.predict(x_test)\n",
    "ypredSVC=pd.DataFrame(ypredSVC)\n"
   ]
  },
  {
   "cell_type": "code",
   "execution_count": 15,
   "id": "187e7eab",
   "metadata": {},
   "outputs": [
    {
     "name": "stdout",
     "output_type": "stream",
     "text": [
      "[[2187    5]\n",
      " [ 782    6]]\n",
      "\n",
      "recall_score for ypredSVC\t 0.007614213197969543 \n",
      "precision_score for ypredSVC\t 0.5454545454545454\n"
     ]
    }
   ],
   "source": [
    "from sklearn.metrics import confusion_matrix\n",
    "confusion_matrix2 =confusion_matrix(y_test, ypredSVC)\n",
    "R=recall_score(y_test, ypredSVC, average='binary')\n",
    "P=precision_score(y_test, ypredSVC, average='binary')\n",
    "print(confusion_matrix2)\n",
    "print(\"\\nrecall_score for ypredSVC\\t\",R,'\\nprecision_score for ypredSVC\\t',P)\n"
   ]
  },
  {
   "cell_type": "code",
   "execution_count": 17,
   "id": "eafe195f",
   "metadata": {},
   "outputs": [
    {
     "data": {
      "text/plain": [
       "(0    2969\n",
       " 1      11\n",
       " dtype: int64,\n",
       " 0    2192\n",
       " 1     788\n",
       " Name: target, dtype: int64)"
      ]
     },
     "execution_count": 17,
     "metadata": {},
     "output_type": "execute_result"
    }
   ],
   "source": [
    "ypredSVC.value_counts(),y_test.value_counts()"
   ]
  },
  {
   "cell_type": "code",
   "execution_count": 233,
   "id": "a0428a1b",
   "metadata": {
    "scrolled": true
   },
   "outputs": [
    {
     "data": {
      "text/plain": [
       "[<matplotlib.lines.Line2D at 0x205ff6b0550>]"
      ]
     },
     "execution_count": 233,
     "metadata": {},
     "output_type": "execute_result"
    },
    {
     "data": {
      "image/png": "[encoded data removed]",
      "text/plain": [
       "<Figure size 432x288 with 1 Axes>"
      ]
     },
     "metadata": {
      "needs_background": "light"
     },
     "output_type": "display_data"
    }
   ],
   "source": [
    "estimator1 = SVC(kernel= 'rbf')\n",
    "\n",
    "train_sizes, train_scores, test_scores =learning_curve(estimator1, x_train, y_train)\n",
    "\n",
    "\n",
    "plt.plot(train_sizes,np.mean(train_scores,axis=1))\n",
    "plt.plot(train_sizes,np.mean(test_scores,axis=1))"
   ]
  },
  {
   "cell_type": "markdown",
   "id": "22e69daf",
   "metadata": {},
   "source": [
    "# Random Forest Classifier 87%"
   ]
  },
  {
   "cell_type": "code",
   "execution_count": 22,
   "id": "cb9ba686",
   "metadata": {},
   "outputs": [
    {
     "name": "stdout",
     "output_type": "stream",
     "text": [
      "RandomForestClassifierModel Train Score is :  0.9986572675394427\n",
      "RandomForestClassifierModel Test Score is :  0.8741610738255033\n",
      "----------------------------------------------------\n"
     ]
    }
   ],
   "source": [
    "from sklearn.ensemble import RandomForestClassifier\n",
    "RandomForestClassifierModel = RandomForestClassifier(criterion ='entropy',n_estimators=1010,random_state=None,n_jobs=4)                     \n",
    "RandomForestClassifierModel.fit(x_train, y_train)\n",
    "\n",
    "#Calculating Details\n",
    "print('RandomForestClassifierModel Train Score is : ' , RandomForestClassifierModel.score(x_train, y_train))\n",
    "print('RandomForestClassifierModel Test Score is : ' , RandomForestClassifierModel.score(x_test, y_test))\n",
    "print('----------------------------------------------------')\n",
    "ypredRFC = RandomForestClassifierModel.predict(x_test)\n",
    "ypredRFC=pd.DataFrame(ypredRFC)\n",
    "\n"
   ]
  },
  {
   "cell_type": "code",
   "execution_count": 23,
   "id": "d22c7a63",
   "metadata": {},
   "outputs": [
    {
     "name": "stdout",
     "output_type": "stream",
     "text": [
      "[[2053  139]\n",
      " [ 236  552]]\n",
      "\n",
      "recall_score for ypredSVC\t 0.700507614213198 \n",
      "precision_score for ypredSVC\t 0.7988422575976846\n"
     ]
    }
   ],
   "source": [
    "from sklearn.metrics import confusion_matrix\n",
    "confusion_matrix3 =confusion_matrix(y_test, ypredRFC)\n",
    "R=recall_score(y_test, ypredRFC, average='binary')\n",
    "P=precision_score(y_test, ypredRFC, average='binary')\n",
    "print(confusion_matrix3)\n",
    "print(\"\\nrecall_score for ypredSVC\\t\",R,'\\nprecision_score for ypredSVC\\t',P)\n"
   ]
  },
  {
   "cell_type": "code",
   "execution_count": 24,
   "id": "88231c66",
   "metadata": {},
   "outputs": [
    {
     "data": {
      "text/plain": [
       "(0    2289\n",
       " 1     691\n",
       " dtype: int64,\n",
       " 0    2192\n",
       " 1     788\n",
       " Name: target, dtype: int64)"
      ]
     },
     "execution_count": 24,
     "metadata": {},
     "output_type": "execute_result"
    }
   ],
   "source": [
    "ypredRFC.value_counts(),y_test.value_counts()"
   ]
  },
  {
   "cell_type": "code",
   "execution_count": 232,
   "id": "0b6b0744",
   "metadata": {},
   "outputs": [
    {
     "data": {
      "text/plain": [
       "[<matplotlib.lines.Line2D at 0x205ff3411c0>]"
      ]
     },
     "execution_count": 232,
     "metadata": {},
     "output_type": "execute_result"
    },
    {
     "data": {
      "image/png": "[encoded data removed]",
      "text/plain": [
       "<Figure size 432x288 with 1 Axes>"
      ]
     },
     "metadata": {
      "needs_background": "light"
     },
     "output_type": "display_data"
    }
   ],
   "source": [
    "estimator2 =  RandomForestClassifier(criterion ='entropy',n_estimators=1010,random_state=None,n_jobs=4) \n",
    "train_sizes, train_scores, test_scores= learning_curve(estimator2, x_train, y_train)\n",
    "plt.plot(train_sizes,np.mean(train_scores,axis=1))\n",
    "plt.plot(train_sizes,np.mean(test_scores,axis=1))"
   ]
  },
  {
   "cell_type": "markdown",
   "id": "391dd9e2",
   "metadata": {},
   "source": [
    "# Gradient Boosting Classifier 85%\n"
   ]
  },
  {
   "cell_type": "code",
   "execution_count": 25,
   "id": "b2ac56fd",
   "metadata": {},
   "outputs": [
    {
     "name": "stdout",
     "output_type": "stream",
     "text": [
      "GBCModel Train Score is :  0.9118831822759316\n",
      "GBCModel Test Score is :  0.8536912751677852\n",
      "----------------------------------------------------\n"
     ]
    }
   ],
   "source": [
    "from sklearn.ensemble import GradientBoostingClassifier\n",
    "\n",
    "GBCModel = GradientBoostingClassifier(n_estimators=1000) \n",
    "GBCModel.fit(x_train, y_train)\n",
    "\n",
    "#Calculating Details\n",
    "print('GBCModel Train Score is : ' , GBCModel.score(x_train, y_train))\n",
    "print('GBCModel Test Score is : ' , GBCModel.score(x_test, y_test))\n",
    "print('----------------------------------------------------')\n",
    "ypredGBC = GBCModel.predict(x_test)\n",
    "ypredGBC=pd.DataFrame(ypredGBC)\n",
    "\n"
   ]
  },
  {
   "cell_type": "code",
   "execution_count": 26,
   "id": "a99515e6",
   "metadata": {},
   "outputs": [
    {
     "name": "stdout",
     "output_type": "stream",
     "text": [
      "[[2033  159]\n",
      " [ 277  511]]\n",
      "\n",
      "recall_score for ypredSVC\t 0.6484771573604061 \n",
      "precision_score for ypredSVC\t 0.7626865671641792\n"
     ]
    }
   ],
   "source": [
    "from sklearn.metrics import confusion_matrix\n",
    "confusion_matrix4 =confusion_matrix(y_test, ypredGBC)\n",
    "R=recall_score(y_test, ypredGBC, average='binary')\n",
    "P=precision_score(y_test, ypredGBC, average='binary')\n",
    "print(confusion_matrix4)\n",
    "print(\"\\nrecall_score for ypredSVC\\t\",R,'\\nprecision_score for ypredSVC\\t',P)"
   ]
  },
  {
   "cell_type": "code",
   "execution_count": 27,
   "id": "25a898cc",
   "metadata": {},
   "outputs": [
    {
     "data": {
      "text/plain": [
       "(0    2310\n",
       " 1     670\n",
       " dtype: int64,\n",
       " 0    2192\n",
       " 1     788\n",
       " Name: target, dtype: int64)"
      ]
     },
     "execution_count": 27,
     "metadata": {},
     "output_type": "execute_result"
    }
   ],
   "source": [
    "ypredGBC.value_counts(),y_test.value_counts()"
   ]
  },
  {
   "cell_type": "code",
   "execution_count": 234,
   "id": "5cd1c485",
   "metadata": {},
   "outputs": [
    {
     "data": {
      "text/plain": [
       "[<matplotlib.lines.Line2D at 0x205ff4c7940>]"
      ]
     },
     "execution_count": 234,
     "metadata": {},
     "output_type": "execute_result"
    },
    {
     "data": {
      "image/png": "[encoded data removed]",
      "text/plain": [
       "<Figure size 432x288 with 1 Axes>"
      ]
     },
     "metadata": {
      "needs_background": "light"
     },
     "output_type": "display_data"
    }
   ],
   "source": [
    "estimator3 =  GradientBoostingClassifier() \n",
    "train_sizes, train_scores, test_scores= learning_curve(estimator3,x_train, y_train)\n",
    "plt.plot(train_sizes,np.mean(test_scores,axis=1))\n",
    "plt.plot(train_sizes,np.mean(train_scores,axis=1))"
   ]
  },
  {
   "cell_type": "markdown",
   "id": "e03bcb4f",
   "metadata": {},
   "source": [
    "## after fiting Bcells data know we preprocessing on Covid file \n",
    "## then we input it as inputs in Randome Forest Model "
   ]
  },
  {
   "cell_type": "code",
   "execution_count": 15,
   "id": "865e489e",
   "metadata": {},
   "outputs": [
    {
     "data": {
      "text/plain": [
       "array([1, 1, 1, 1, 1, 1, 1, 1, 1, 1, 1, 1, 1, 1, 1, 1, 1, 1, 1, 1, 1, 1,\n",
       "       1, 1, 1, 1, 1, 1, 1, 1, 1, 1, 1, 1, 1, 1, 1, 1, 1, 1, 1, 1, 1, 1,\n",
       "       1, 1, 1, 1, 1, 1, 1, 1, 1, 1, 1, 1, 1, 1, 1, 1, 1, 1, 1, 1, 1, 1,\n",
       "       1, 1, 1, 1, 1, 1, 1, 1, 1, 1, 1, 1, 1, 1, 1, 1, 1, 1, 1, 1, 1, 1,\n",
       "       1, 1, 1, 1, 1, 1, 1, 1, 1, 1, 1, 1, 1, 1, 1, 1, 1, 1, 1, 1, 1, 1,\n",
       "       1, 1, 1, 1, 1, 1, 1, 1, 1, 1, 1, 1, 1, 1, 1, 1, 1, 1, 1, 1, 1, 1,\n",
       "       1, 1, 1, 1, 1, 1, 1, 1, 1, 1, 1, 1, 1, 1, 1, 1, 1, 1, 1, 1, 1, 1,\n",
       "       1, 1, 1, 1, 1, 1, 1, 1, 1, 1, 1, 1, 1, 1, 1, 1, 1, 1, 1, 1, 1, 1,\n",
       "       1, 1, 1, 1, 1, 1, 1, 1, 1, 1, 1, 1, 1, 1, 1, 1, 1, 1, 1, 1, 1, 1,\n",
       "       1, 1, 1, 1, 1, 1, 1, 1, 1, 1, 1, 1, 1, 1, 1, 1, 1, 1, 1, 1, 1, 1,\n",
       "       1, 1, 1, 1, 1, 1, 1, 1, 1, 1, 1, 1, 1, 1, 1, 1, 1, 1, 1, 1, 1, 1,\n",
       "       1, 1, 1, 1, 1, 1, 1, 1, 1, 1, 1, 1, 1, 1, 1, 1, 1, 1, 1, 1, 1, 1,\n",
       "       1, 1, 1, 1, 1, 1, 1, 1, 1, 1, 1, 1, 1, 1, 1, 1, 1, 1, 1, 1, 1, 1,\n",
       "       1, 1, 1, 1, 1, 1, 1, 1, 1, 1, 1, 1, 1, 1, 1, 1, 1, 1, 1, 1, 1, 1,\n",
       "       1, 1, 1, 1, 1, 1, 1, 1, 1, 1, 1, 1, 1, 1, 1, 1, 1, 1, 1, 1, 1, 1,\n",
       "       1, 1, 1, 1, 1, 1, 1, 1, 1, 1, 1, 1, 1, 1, 1, 1, 1, 1, 1, 1, 1, 1,\n",
       "       1, 1, 1, 1, 1, 1, 1, 1, 1, 1, 1, 1, 1, 1, 1, 1, 1, 1, 1, 1, 1, 1,\n",
       "       1, 1, 1, 1, 1, 1, 1, 1, 1, 1, 1, 1, 1, 1, 1, 1, 1, 1, 1, 1, 1, 1,\n",
       "       1, 1, 1, 1], dtype=int64)"
      ]
     },
     "execution_count": 15,
     "metadata": {},
     "output_type": "execute_result"
    }
   ],
   "source": [
    "X_Covid=Covid.drop(['parent_protein_id','protein_seq','start_position','end_position','peptide_seq'],axis=1)\n",
    "j= RandomForestClassifierModel.predict(X_Covid)\n",
    "j[:400]"
   ]
  },
  {
   "cell_type": "markdown",
   "id": "2dd668fc",
   "metadata": {},
   "source": [
    "# make a new fike with attribut Target such as Bcell file  formall "
   ]
  },
  {
   "cell_type": "code",
   "execution_count": 16,
   "id": "89ea7fab",
   "metadata": {},
   "outputs": [],
   "source": [
    "Covid['Target']= pd.DataFrame(j)"
   ]
  },
  {
   "cell_type": "code",
   "execution_count": 17,
   "id": "ad092eb2",
   "metadata": {},
   "outputs": [
    {
     "data": {
      "text/html": [
       "<div>\n",
       "<style scoped>\n",
       "    .dataframe tbody tr th:only-of-type {\n",
       "        vertical-align: middle;\n",
       "    }\n",
       "\n",
       "    .dataframe tbody tr th {\n",
       "        vertical-align: top;\n",
       "    }\n",
       "\n",
       "    .dataframe thead th {\n",
       "        text-align: right;\n",
       "    }\n",
       "</style>\n",
       "<table border=\"1\" class=\"dataframe\">\n",
       "  <thead>\n",
       "    <tr style=\"text-align: right;\">\n",
       "      <th></th>\n",
       "      <th>peptide_seq</th>\n",
       "      <th>Target</th>\n",
       "    </tr>\n",
       "  </thead>\n",
       "  <tbody>\n",
       "    <tr>\n",
       "      <th>0</th>\n",
       "      <td>MGILP</td>\n",
       "      <td>1</td>\n",
       "    </tr>\n",
       "    <tr>\n",
       "      <th>1</th>\n",
       "      <td>GILPS</td>\n",
       "      <td>1</td>\n",
       "    </tr>\n",
       "    <tr>\n",
       "      <th>2</th>\n",
       "      <td>ILPSP</td>\n",
       "      <td>1</td>\n",
       "    </tr>\n",
       "    <tr>\n",
       "      <th>3</th>\n",
       "      <td>LPSPG</td>\n",
       "      <td>1</td>\n",
       "    </tr>\n",
       "    <tr>\n",
       "      <th>4</th>\n",
       "      <td>PSPGM</td>\n",
       "      <td>1</td>\n",
       "    </tr>\n",
       "    <tr>\n",
       "      <th>...</th>\n",
       "      <td>...</td>\n",
       "      <td>...</td>\n",
       "    </tr>\n",
       "    <tr>\n",
       "      <th>14320</th>\n",
       "      <td>YVRKDGEWVLLSTFLGHHHH</td>\n",
       "      <td>1</td>\n",
       "    </tr>\n",
       "    <tr>\n",
       "      <th>14321</th>\n",
       "      <td>VRKDGEWVLLSTFLGHHHHH</td>\n",
       "      <td>1</td>\n",
       "    </tr>\n",
       "    <tr>\n",
       "      <th>14322</th>\n",
       "      <td>RKDGEWVLLSTFLGHHHHHH</td>\n",
       "      <td>1</td>\n",
       "    </tr>\n",
       "    <tr>\n",
       "      <th>14323</th>\n",
       "      <td>KDGEWVLLSTFLGHHHHHHH</td>\n",
       "      <td>1</td>\n",
       "    </tr>\n",
       "    <tr>\n",
       "      <th>14324</th>\n",
       "      <td>DGEWVLLSTFLGHHHHHHHH</td>\n",
       "      <td>1</td>\n",
       "    </tr>\n",
       "  </tbody>\n",
       "</table>\n",
       "<p>14325 rows × 2 columns</p>\n",
       "</div>"
      ],
      "text/plain": [
       "                peptide_seq  Target\n",
       "0                     MGILP       1\n",
       "1                     GILPS       1\n",
       "2                     ILPSP       1\n",
       "3                     LPSPG       1\n",
       "4                     PSPGM       1\n",
       "...                     ...     ...\n",
       "14320  YVRKDGEWVLLSTFLGHHHH       1\n",
       "14321  VRKDGEWVLLSTFLGHHHHH       1\n",
       "14322  RKDGEWVLLSTFLGHHHHHH       1\n",
       "14323  KDGEWVLLSTFLGHHHHHHH       1\n",
       "14324  DGEWVLLSTFLGHHHHHHHH       1\n",
       "\n",
       "[14325 rows x 2 columns]"
      ]
     },
     "execution_count": 17,
     "metadata": {},
     "output_type": "execute_result"
    }
   ],
   "source": [
    "C = len(Covid)\n",
    "l=[]\n",
    "for c in range(C):\n",
    "    if Covid.Target[c]==1:\n",
    "        Dic={\"peptide_seq\":Covid.peptide_seq[c],\n",
    "            \"Target\":Covid.Target[c]}\n",
    "        l.append(Dic)\n",
    "pd.DataFrame(l)"
   ]
  },
  {
   "cell_type": "code",
   "execution_count": 18,
   "id": "923460fd",
   "metadata": {},
   "outputs": [
    {
     "name": "stdout",
     "output_type": "stream",
     "text": [
      "(20312, 15)\n"
     ]
    },
    {
     "data": {
      "text/plain": [
       "1    14325\n",
       "0     5987\n",
       "Name: Target, dtype: int64"
      ]
     },
     "execution_count": 18,
     "metadata": {},
     "output_type": "execute_result"
    }
   ],
   "source": [
    "print(Covid.shape)\n",
    "\n",
    "Covid.Target.value_counts()\n"
   ]
  },
  {
   "cell_type": "markdown",
   "id": "aac59e4e",
   "metadata": {},
   "source": [
    "# Now its time for apply different Neural Network types\n",
    "## ANN Sklearn\n",
    "## ANN Krase\n",
    "## RNN\n",
    "## CNN"
   ]
  },
  {
   "cell_type": "markdown",
   "id": "2ee480a1",
   "metadata": {},
   "source": [
    "## ANN sklearn 84.3%"
   ]
  },
  {
   "cell_type": "code",
   "execution_count": 28,
   "id": "350aafd6",
   "metadata": {},
   "outputs": [
    {
     "data": {
      "text/plain": [
       "MLPClassifier(activation='tanh',\n",
       "              hidden_layer_sizes=(100, 100, 100, 100, 100, 100, 100, 100, 100),\n",
       "              learning_rate_init=0.0001, max_iter=800)"
      ]
     },
     "execution_count": 28,
     "metadata": {},
     "output_type": "execute_result"
    }
   ],
   "source": [
    "from sklearn.neural_network import MLPClassifier\n",
    "MLPClassifierModel = MLPClassifier(activation='tanh',solver='adam', learning_rate='constant',early_stopping= False,\n",
    "                                   alpha=0.0001,learning_rate_init=0.0001 ,hidden_layer_sizes=(100,100,100,100,100,100,100,100,100),random_state=None,max_iter=800)\n",
    "MLPClassifierModel.fit(x_train, y_train)\n"
   ]
  },
  {
   "cell_type": "code",
   "execution_count": 29,
   "id": "67f3c166",
   "metadata": {},
   "outputs": [
    {
     "name": "stdout",
     "output_type": "stream",
     "text": [
      "MLPClassifierModel Train Score is :  0.8758811681772407\n",
      "MLPClassifierModel Test Score is :  0.8469798657718121\n",
      "MLPClassifierModel loss is :  0.29085117619648054\n",
      "MLPClassifierModel No. of iterations is :  405\n",
      "MLPClassifierModel No. of layers is :  11\n",
      "MLPClassifierModel last activation is :  logistic\n",
      "[0, 0, 0, 0, 0, 0, 0, 0, 0, 0]\n",
      "Predicted Value for MLPClassifierModel is :     0\n",
      "0  0\n",
      "1  0\n",
      "2  0\n",
      "3  0\n",
      "4  0\n",
      "5  0\n",
      "6  0\n",
      "7  0\n",
      "8  0\n",
      "9  0\n"
     ]
    }
   ],
   "source": [
    "print('MLPClassifierModel Train Score is : ' , MLPClassifierModel.score(x_train, y_train))\n",
    "print('MLPClassifierModel Test Score is : ' , MLPClassifierModel.score(x_test, y_test))\n",
    "print('MLPClassifierModel loss is : ' , MLPClassifierModel.loss_)\n",
    "print('MLPClassifierModel No. of iterations is : ' , MLPClassifierModel.n_iter_)\n",
    "print('MLPClassifierModel No. of layers is : ' , MLPClassifierModel.n_layers_)\n",
    "print('MLPClassifierModel last activation is : ' , MLPClassifierModel.out_activation_)\n",
    "y_pred = MLPClassifierModel.predict(x_test)\n",
    "y_pred=pd.DataFrame(y_pred)\n",
    "\n",
    "print(list(y_test[:10]))\n",
    "print('Predicted Value for MLPClassifierModel is : ' , y_pred[:10])\n"
   ]
  },
  {
   "cell_type": "code",
   "execution_count": 31,
   "id": "b7aa6d3e",
   "metadata": {},
   "outputs": [
    {
     "name": "stdout",
     "output_type": "stream",
     "text": [
      "[[2016  176]\n",
      " [ 280  508]]\n",
      "\n",
      "recall_score for ypredSVC\t 0.6446700507614214 \n",
      "precision_score for ypredSVC\t 0.7426900584795322\n"
     ]
    }
   ],
   "source": [
    "from sklearn.metrics import confusion_matrix\n",
    "confusion_matrix4 =confusion_matrix(y_test, y_pred)\n",
    "R=recall_score(y_test, y_pred, average='binary')\n",
    "P=precision_score(y_test, y_pred, average='binary')\n",
    "print(confusion_matrix4)\n",
    "print(\"\\nrecall_score for ypredSVC\\t\",R,'\\nprecision_score for ypredSVC\\t',P)\n"
   ]
  },
  {
   "cell_type": "code",
   "execution_count": 32,
   "id": "517d6ddf",
   "metadata": {},
   "outputs": [
    {
     "data": {
      "text/plain": [
       "(0    2296\n",
       " 1     684\n",
       " dtype: int64,\n",
       " 0    2192\n",
       " 1     788\n",
       " Name: target, dtype: int64)"
      ]
     },
     "execution_count": 32,
     "metadata": {},
     "output_type": "execute_result"
    }
   ],
   "source": [
    "y_pred.value_counts(),y_test.value_counts()"
   ]
  },
  {
   "cell_type": "code",
   "execution_count": 15,
   "id": "006c30c3",
   "metadata": {},
   "outputs": [
    {
     "name": "stdout",
     "output_type": "stream",
     "text": [
      "[learning_curve] Training set sizes: [ 953 3097 5242 7387 9532]\n"
     ]
    },
    {
     "name": "stderr",
     "output_type": "stream",
     "text": [
      "[Parallel(n_jobs=4)]: Using backend LokyBackend with 4 concurrent workers.\n",
      "[Parallel(n_jobs=4)]: Done  25 out of  25 | elapsed: 31.2min finished\n"
     ]
    },
    {
     "data": {
      "text/plain": [
       "[<matplotlib.lines.Line2D at 0x1c54e7f2160>]"
      ]
     },
     "execution_count": 15,
     "metadata": {},
     "output_type": "execute_result"
    },
    {
     "data": {
      "image/png": "[encoded data removed]",
      "text/plain": [
       "<Figure size 432x288 with 1 Axes>"
      ]
     },
     "metadata": {
      "needs_background": "light"
     },
     "output_type": "display_data"
    }
   ],
   "source": [
    "estimator4 =   MLPClassifier(activation='tanh',solver='adam', learning_rate='constant',early_stopping= False,\n",
    "                                   alpha=0.0001,learning_rate_init=0.0001 ,hidden_layer_sizes=(100,100,100,100,100,100,100,100,100),random_state=None,max_iter=800)\n",
    "\n",
    "train_sizes, train_scores, test_scores= learning_curve(estimator4,x_train, y_train,verbose=1,n_jobs=4)\n",
    "plt.plot(train_sizes,np.mean(train_scores,axis=1))\n",
    "plt.plot(train_sizes,np.mean(test_scores,axis=1))\n"
   ]
  },
  {
   "cell_type": "markdown",
   "id": "59a79195",
   "metadata": {},
   "source": [
    "# ANN Keras  84.3"
   ]
  },
  {
   "cell_type": "code",
   "execution_count": 48,
   "id": "f7bf1688",
   "metadata": {},
   "outputs": [],
   "source": [
    "import tensorflow as tf\n",
    "from tensorflow import keras\n",
    "from tensorflow.keras import layers\n"
   ]
  },
  {
   "cell_type": "code",
   "execution_count": 62,
   "id": "22318890",
   "metadata": {},
   "outputs": [],
   "source": [
    "model = tf.keras.Sequential([\n",
    "    tf.keras.layers.Dense(100,activation =tf.keras.activations.relu),\n",
    "    tf.keras.layers.Dense(100,activation =tf.keras.activations.relu),\n",
    "    tf.keras.layers.Dense(100,activation =tf.keras.activations.relu),\n",
    "    tf.keras.layers.Dense(100,activation =tf.keras.activations.relu),\n",
    "    tf.keras.layers.Dense(100,activation =tf.keras.activations.relu),\n",
    "    tf.keras.layers.Dense(100,activation =tf.keras.activations.relu),\n",
    "    tf.keras.layers.Dense(100,activation =tf.keras.activations.relu),\n",
    "    tf.keras.layers.Dense(100,activation =tf.keras.activations.relu),\n",
    "    tf.keras.layers.Dense(100,activation =tf.keras.activations.relu),\n",
    "    tf.keras.layers.Dense(1,activation =tf.keras.activations.sigmoid)\n",
    "\n",
    "  \n",
    "])"
   ]
  },
  {
   "cell_type": "code",
   "execution_count": 63,
   "id": "f13ba315",
   "metadata": {},
   "outputs": [],
   "source": [
    "model.compile(loss=tf.keras.losses.BinaryCrossentropy(),\n",
    "             optimizer=tf.keras.optimizers.Adam(),\n",
    "             metrics=['accuracy'])"
   ]
  },
  {
   "cell_type": "code",
   "execution_count": 64,
   "id": "e8b0427b",
   "metadata": {
    "scrolled": true
   },
   "outputs": [
    {
     "name": "stdout",
     "output_type": "stream",
     "text": [
      "Epoch 1/100\n",
      "373/373 [==============================] - 18s 22ms/step - loss: 0.5847 - accuracy: 0.7282 - val_loss: 0.5626 - val_accuracy: 0.7359\n",
      "Epoch 2/100\n",
      "373/373 [==============================] - 8s 20ms/step - loss: 0.5720 - accuracy: 0.7280 - val_loss: 0.5592 - val_accuracy: 0.7359\n",
      "Epoch 3/100\n",
      "373/373 [==============================] - 3s 9ms/step - loss: 0.5665 - accuracy: 0.7285 - val_loss: 0.5732 - val_accuracy: 0.7369\n",
      "Epoch 4/100\n",
      "373/373 [==============================] - 4s 11ms/step - loss: 0.5656 - accuracy: 0.7278 - val_loss: 0.5668 - val_accuracy: 0.7372\n",
      "Epoch 5/100\n",
      "373/373 [==============================] - 4s 10ms/step - loss: 0.5595 - accuracy: 0.7287 - val_loss: 0.5582 - val_accuracy: 0.7376\n",
      "Epoch 6/100\n",
      "373/373 [==============================] - 4s 10ms/step - loss: 0.5562 - accuracy: 0.7288 - val_loss: 0.5486 - val_accuracy: 0.7416\n",
      "Epoch 7/100\n",
      "373/373 [==============================] - 4s 10ms/step - loss: 0.5545 - accuracy: 0.7263 - val_loss: 0.5429 - val_accuracy: 0.7372\n",
      "Epoch 8/100\n",
      "373/373 [==============================] - 5s 13ms/step - loss: 0.5475 - accuracy: 0.7306 - val_loss: 0.5502 - val_accuracy: 0.7386\n",
      "Epoch 9/100\n",
      "373/373 [==============================] - 5s 13ms/step - loss: 0.5439 - accuracy: 0.7308 - val_loss: 0.5398 - val_accuracy: 0.7396\n",
      "Epoch 10/100\n",
      "373/373 [==============================] - 5s 13ms/step - loss: 0.5419 - accuracy: 0.7301 - val_loss: 0.5311 - val_accuracy: 0.7406\n",
      "Epoch 11/100\n",
      "373/373 [==============================] - 5s 12ms/step - loss: 0.5359 - accuracy: 0.7390 - val_loss: 0.5350 - val_accuracy: 0.7389\n",
      "Epoch 12/100\n",
      "373/373 [==============================] - 4s 11ms/step - loss: 0.5292 - accuracy: 0.7393 - val_loss: 0.5208 - val_accuracy: 0.7460\n",
      "Epoch 13/100\n",
      "373/373 [==============================] - 4s 10ms/step - loss: 0.5221 - accuracy: 0.7440 - val_loss: 0.5009 - val_accuracy: 0.7661\n",
      "Epoch 14/100\n",
      "373/373 [==============================] - 4s 12ms/step - loss: 0.5098 - accuracy: 0.7542 - val_loss: 0.5025 - val_accuracy: 0.7628\n",
      "Epoch 15/100\n",
      "373/373 [==============================] - 5s 12ms/step - loss: 0.4923 - accuracy: 0.7632 - val_loss: 0.4711 - val_accuracy: 0.7691\n",
      "Epoch 16/100\n",
      "373/373 [==============================] - 5s 12ms/step - loss: 0.4843 - accuracy: 0.7699 - val_loss: 0.4645 - val_accuracy: 0.7869\n",
      "Epoch 17/100\n",
      "373/373 [==============================] - 3s 9ms/step - loss: 0.4730 - accuracy: 0.7779 - val_loss: 0.4951 - val_accuracy: 0.7581\n",
      "Epoch 18/100\n",
      "373/373 [==============================] - 4s 10ms/step - loss: 0.4637 - accuracy: 0.7841 - val_loss: 0.4845 - val_accuracy: 0.7664\n",
      "Epoch 19/100\n",
      "373/373 [==============================] - 4s 10ms/step - loss: 0.4575 - accuracy: 0.7890 - val_loss: 0.4514 - val_accuracy: 0.7879\n",
      "Epoch 20/100\n",
      "373/373 [==============================] - 3s 9ms/step - loss: 0.4497 - accuracy: 0.7917 - val_loss: 0.4437 - val_accuracy: 0.7893\n",
      "Epoch 21/100\n",
      "373/373 [==============================] - 4s 10ms/step - loss: 0.4414 - accuracy: 0.7941 - val_loss: 0.4286 - val_accuracy: 0.8134\n",
      "Epoch 22/100\n",
      "373/373 [==============================] - 4s 10ms/step - loss: 0.4344 - accuracy: 0.8006 - val_loss: 0.4540 - val_accuracy: 0.7829\n",
      "Epoch 23/100\n",
      "373/373 [==============================] - 5s 13ms/step - loss: 0.4272 - accuracy: 0.8043 - val_loss: 0.4307 - val_accuracy: 0.8077\n",
      "Epoch 24/100\n",
      "373/373 [==============================] - 5s 13ms/step - loss: 0.4227 - accuracy: 0.8048 - val_loss: 0.4306 - val_accuracy: 0.8081\n",
      "Epoch 25/100\n",
      "373/373 [==============================] - 4s 11ms/step - loss: 0.4219 - accuracy: 0.8061 - val_loss: 0.4486 - val_accuracy: 0.8044\n",
      "Epoch 26/100\n",
      "373/373 [==============================] - 4s 10ms/step - loss: 0.4168 - accuracy: 0.8087 - val_loss: 0.4245 - val_accuracy: 0.8164\n",
      "Epoch 27/100\n",
      "373/373 [==============================] - 4s 10ms/step - loss: 0.4086 - accuracy: 0.8155 - val_loss: 0.4220 - val_accuracy: 0.8097\n",
      "Epoch 28/100\n",
      "373/373 [==============================] - 4s 12ms/step - loss: 0.4044 - accuracy: 0.8196 - val_loss: 0.3986 - val_accuracy: 0.8154\n",
      "Epoch 29/100\n",
      "373/373 [==============================] - 5s 13ms/step - loss: 0.4074 - accuracy: 0.8117 - val_loss: 0.4257 - val_accuracy: 0.8128\n",
      "Epoch 30/100\n",
      "373/373 [==============================] - 4s 11ms/step - loss: 0.4023 - accuracy: 0.8163 - val_loss: 0.4490 - val_accuracy: 0.7930\n",
      "Epoch 31/100\n",
      "373/373 [==============================] - 4s 11ms/step - loss: 0.4037 - accuracy: 0.8181 - val_loss: 0.4198 - val_accuracy: 0.8094\n",
      "Epoch 32/100\n",
      "373/373 [==============================] - 3s 9ms/step - loss: 0.3981 - accuracy: 0.8160 - val_loss: 0.4100 - val_accuracy: 0.8104\n",
      "Epoch 33/100\n",
      "373/373 [==============================] - 4s 10ms/step - loss: 0.3899 - accuracy: 0.8248 - val_loss: 0.4261 - val_accuracy: 0.8054\n",
      "Epoch 34/100\n",
      "373/373 [==============================] - 4s 11ms/step - loss: 0.3945 - accuracy: 0.8215 - val_loss: 0.4384 - val_accuracy: 0.7963\n",
      "Epoch 35/100\n",
      "373/373 [==============================] - 5s 13ms/step - loss: 0.3969 - accuracy: 0.8196 - val_loss: 0.4006 - val_accuracy: 0.8218\n",
      "Epoch 36/100\n",
      "373/373 [==============================] - 4s 10ms/step - loss: 0.3841 - accuracy: 0.8247 - val_loss: 0.3957 - val_accuracy: 0.8181\n",
      "Epoch 37/100\n",
      "373/373 [==============================] - 4s 11ms/step - loss: 0.3861 - accuracy: 0.8276 - val_loss: 0.3889 - val_accuracy: 0.8289\n",
      "Epoch 38/100\n",
      "373/373 [==============================] - 4s 11ms/step - loss: 0.3914 - accuracy: 0.8227 - val_loss: 0.4109 - val_accuracy: 0.8272\n",
      "Epoch 39/100\n",
      "373/373 [==============================] - 5s 13ms/step - loss: 0.3913 - accuracy: 0.8254 - val_loss: 0.3888 - val_accuracy: 0.8191\n",
      "Epoch 40/100\n",
      "373/373 [==============================] - 4s 11ms/step - loss: 0.3849 - accuracy: 0.8270 - val_loss: 0.4352 - val_accuracy: 0.7926\n",
      "Epoch 41/100\n",
      "373/373 [==============================] - 5s 12ms/step - loss: 0.3864 - accuracy: 0.8229 - val_loss: 0.3929 - val_accuracy: 0.8211\n",
      "Epoch 42/100\n",
      "373/373 [==============================] - 4s 11ms/step - loss: 0.3751 - accuracy: 0.8330 - val_loss: 0.3872 - val_accuracy: 0.8305\n",
      "Epoch 43/100\n",
      "373/373 [==============================] - 4s 12ms/step - loss: 0.3724 - accuracy: 0.8322 - val_loss: 0.4059 - val_accuracy: 0.8201\n",
      "Epoch 44/100\n",
      "373/373 [==============================] - 4s 10ms/step - loss: 0.3803 - accuracy: 0.8273 - val_loss: 0.4007 - val_accuracy: 0.8077\n",
      "Epoch 45/100\n",
      "373/373 [==============================] - 4s 11ms/step - loss: 0.3757 - accuracy: 0.8299 - val_loss: 0.3807 - val_accuracy: 0.8359\n",
      "Epoch 46/100\n",
      "373/373 [==============================] - 5s 13ms/step - loss: 0.3759 - accuracy: 0.8325 - val_loss: 0.3881 - val_accuracy: 0.8319\n",
      "Epoch 47/100\n",
      "373/373 [==============================] - 5s 13ms/step - loss: 0.3715 - accuracy: 0.8350 - val_loss: 0.4021 - val_accuracy: 0.8225\n",
      "Epoch 48/100\n",
      "373/373 [==============================] - 5s 12ms/step - loss: 0.3723 - accuracy: 0.8335 - val_loss: 0.3944 - val_accuracy: 0.8272\n",
      "Epoch 49/100\n",
      "373/373 [==============================] - 5s 14ms/step - loss: 0.3652 - accuracy: 0.8333 - val_loss: 0.3875 - val_accuracy: 0.8279\n",
      "Epoch 50/100\n",
      "373/373 [==============================] - 4s 11ms/step - loss: 0.3602 - accuracy: 0.8391 - val_loss: 0.3942 - val_accuracy: 0.8285\n",
      "Epoch 51/100\n",
      "373/373 [==============================] - 4s 10ms/step - loss: 0.3566 - accuracy: 0.8411 - val_loss: 0.4022 - val_accuracy: 0.8268\n",
      "Epoch 52/100\n",
      "373/373 [==============================] - 4s 12ms/step - loss: 0.3646 - accuracy: 0.8372 - val_loss: 0.3791 - val_accuracy: 0.8332\n",
      "Epoch 53/100\n",
      "373/373 [==============================] - 4s 11ms/step - loss: 0.3553 - accuracy: 0.8392 - val_loss: 0.3949 - val_accuracy: 0.8201\n",
      "Epoch 54/100\n",
      "373/373 [==============================] - 5s 12ms/step - loss: 0.3609 - accuracy: 0.8376 - val_loss: 0.3876 - val_accuracy: 0.8282\n",
      "Epoch 55/100\n",
      "373/373 [==============================] - 4s 12ms/step - loss: 0.3502 - accuracy: 0.8426 - val_loss: 0.3780 - val_accuracy: 0.8326\n",
      "Epoch 56/100\n",
      "373/373 [==============================] - 5s 12ms/step - loss: 0.3540 - accuracy: 0.8415 - val_loss: 0.4001 - val_accuracy: 0.8228\n",
      "Epoch 57/100\n"
     ]
    },
    {
     "name": "stdout",
     "output_type": "stream",
     "text": [
      "373/373 [==============================] - 3s 9ms/step - loss: 0.3574 - accuracy: 0.8415 - val_loss: 0.3755 - val_accuracy: 0.8356\n",
      "Epoch 58/100\n",
      "373/373 [==============================] - 4s 11ms/step - loss: 0.3578 - accuracy: 0.8411 - val_loss: 0.3764 - val_accuracy: 0.8302\n",
      "Epoch 59/100\n",
      "373/373 [==============================] - 4s 11ms/step - loss: 0.3557 - accuracy: 0.8421 - val_loss: 0.3771 - val_accuracy: 0.8346\n",
      "Epoch 60/100\n",
      "373/373 [==============================] - 4s 10ms/step - loss: 0.3479 - accuracy: 0.8458 - val_loss: 0.3922 - val_accuracy: 0.8319\n",
      "Epoch 61/100\n",
      "373/373 [==============================] - 4s 11ms/step - loss: 0.3508 - accuracy: 0.8435 - val_loss: 0.4073 - val_accuracy: 0.8258\n",
      "Epoch 62/100\n",
      "373/373 [==============================] - 4s 12ms/step - loss: 0.3476 - accuracy: 0.8452 - val_loss: 0.3918 - val_accuracy: 0.8282\n",
      "Epoch 63/100\n",
      "373/373 [==============================] - 4s 11ms/step - loss: 0.3494 - accuracy: 0.8456 - val_loss: 0.4192 - val_accuracy: 0.8208\n",
      "Epoch 64/100\n",
      "373/373 [==============================] - 4s 10ms/step - loss: 0.3505 - accuracy: 0.8438 - val_loss: 0.3857 - val_accuracy: 0.8326\n",
      "Epoch 65/100\n",
      "373/373 [==============================] - 4s 12ms/step - loss: 0.3378 - accuracy: 0.8484 - val_loss: 0.4130 - val_accuracy: 0.8232\n",
      "Epoch 66/100\n",
      "373/373 [==============================] - 4s 10ms/step - loss: 0.3442 - accuracy: 0.8493 - val_loss: 0.4083 - val_accuracy: 0.8174\n",
      "Epoch 67/100\n",
      "373/373 [==============================] - 4s 10ms/step - loss: 0.3526 - accuracy: 0.8419 - val_loss: 0.3713 - val_accuracy: 0.8326\n",
      "Epoch 68/100\n",
      "373/373 [==============================] - 4s 10ms/step - loss: 0.3397 - accuracy: 0.8484 - val_loss: 0.3832 - val_accuracy: 0.8322\n",
      "Epoch 69/100\n",
      "373/373 [==============================] - 4s 11ms/step - loss: 0.3380 - accuracy: 0.8472 - val_loss: 0.3619 - val_accuracy: 0.8393\n",
      "Epoch 70/100\n",
      "373/373 [==============================] - 4s 10ms/step - loss: 0.3363 - accuracy: 0.8507 - val_loss: 0.3724 - val_accuracy: 0.8423\n",
      "Epoch 71/100\n",
      "373/373 [==============================] - 4s 11ms/step - loss: 0.3386 - accuracy: 0.8479 - val_loss: 0.3801 - val_accuracy: 0.8315\n",
      "Epoch 72/100\n",
      "373/373 [==============================] - 4s 11ms/step - loss: 0.3413 - accuracy: 0.8477 - val_loss: 0.3834 - val_accuracy: 0.8272\n",
      "Epoch 73/100\n",
      "373/373 [==============================] - 4s 10ms/step - loss: 0.3363 - accuracy: 0.8500 - val_loss: 0.3855 - val_accuracy: 0.8372\n",
      "Epoch 74/100\n",
      "373/373 [==============================] - 4s 10ms/step - loss: 0.3309 - accuracy: 0.8521 - val_loss: 0.3979 - val_accuracy: 0.8305\n",
      "Epoch 75/100\n",
      "373/373 [==============================] - 4s 11ms/step - loss: 0.3369 - accuracy: 0.8479 - val_loss: 0.3797 - val_accuracy: 0.8329\n",
      "Epoch 76/100\n",
      "373/373 [==============================] - 4s 11ms/step - loss: 0.3286 - accuracy: 0.8556 - val_loss: 0.4161 - val_accuracy: 0.8141\n",
      "Epoch 77/100\n",
      "373/373 [==============================] - 4s 11ms/step - loss: 0.3321 - accuracy: 0.8524 - val_loss: 0.3746 - val_accuracy: 0.8282\n",
      "Epoch 78/100\n",
      "373/373 [==============================] - 5s 13ms/step - loss: 0.3397 - accuracy: 0.8506 - val_loss: 0.3913 - val_accuracy: 0.8272\n",
      "Epoch 79/100\n",
      "373/373 [==============================] - 5s 12ms/step - loss: 0.3341 - accuracy: 0.8510 - val_loss: 0.3900 - val_accuracy: 0.8356\n",
      "Epoch 80/100\n",
      "373/373 [==============================] - 4s 11ms/step - loss: 0.3297 - accuracy: 0.8520 - val_loss: 0.3978 - val_accuracy: 0.8366\n",
      "Epoch 81/100\n",
      "373/373 [==============================] - 4s 10ms/step - loss: 0.3244 - accuracy: 0.8562 - val_loss: 0.3896 - val_accuracy: 0.8248\n",
      "Epoch 82/100\n",
      "373/373 [==============================] - 4s 11ms/step - loss: 0.3306 - accuracy: 0.8507 - val_loss: 0.4244 - val_accuracy: 0.8242\n",
      "Epoch 83/100\n",
      "373/373 [==============================] - 4s 11ms/step - loss: 0.3296 - accuracy: 0.8520 - val_loss: 0.3751 - val_accuracy: 0.8433\n",
      "Epoch 84/100\n",
      "373/373 [==============================] - 5s 12ms/step - loss: 0.3242 - accuracy: 0.8549 - val_loss: 0.4196 - val_accuracy: 0.8178\n",
      "Epoch 85/100\n",
      "373/373 [==============================] - 5s 13ms/step - loss: 0.3295 - accuracy: 0.8574 - val_loss: 0.3769 - val_accuracy: 0.8372\n",
      "Epoch 86/100\n",
      "373/373 [==============================] - 4s 10ms/step - loss: 0.3205 - accuracy: 0.8588 - val_loss: 0.4093 - val_accuracy: 0.8423\n",
      "Epoch 87/100\n",
      "373/373 [==============================] - 4s 11ms/step - loss: 0.3345 - accuracy: 0.8518 - val_loss: 0.3857 - val_accuracy: 0.8302\n",
      "Epoch 88/100\n",
      "373/373 [==============================] - 4s 10ms/step - loss: 0.3245 - accuracy: 0.8517 - val_loss: 0.3812 - val_accuracy: 0.8403\n",
      "Epoch 89/100\n",
      "373/373 [==============================] - 4s 12ms/step - loss: 0.3211 - accuracy: 0.8567 - val_loss: 0.3804 - val_accuracy: 0.8362\n",
      "Epoch 90/100\n",
      "373/373 [==============================] - 4s 10ms/step - loss: 0.3185 - accuracy: 0.8591 - val_loss: 0.3778 - val_accuracy: 0.8456\n",
      "Epoch 91/100\n",
      "373/373 [==============================] - 4s 12ms/step - loss: 0.3218 - accuracy: 0.8549 - val_loss: 0.3744 - val_accuracy: 0.8336\n",
      "Epoch 92/100\n",
      "373/373 [==============================] - 4s 11ms/step - loss: 0.3351 - accuracy: 0.8509 - val_loss: 0.3894 - val_accuracy: 0.8379\n",
      "Epoch 93/100\n",
      "373/373 [==============================] - 4s 10ms/step - loss: 0.3202 - accuracy: 0.8585 - val_loss: 0.3750 - val_accuracy: 0.8396\n",
      "Epoch 94/100\n",
      "373/373 [==============================] - 4s 10ms/step - loss: 0.3331 - accuracy: 0.8515 - val_loss: 0.3738 - val_accuracy: 0.8376\n",
      "Epoch 95/100\n",
      "373/373 [==============================] - 4s 10ms/step - loss: 0.3186 - accuracy: 0.8588 - val_loss: 0.3723 - val_accuracy: 0.8339\n",
      "Epoch 96/100\n",
      "373/373 [==============================] - 4s 10ms/step - loss: 0.3155 - accuracy: 0.8626 - val_loss: 0.3749 - val_accuracy: 0.8386\n",
      "Epoch 97/100\n",
      "373/373 [==============================] - 4s 11ms/step - loss: 0.3125 - accuracy: 0.8634 - val_loss: 0.3929 - val_accuracy: 0.8342\n",
      "Epoch 98/100\n",
      "373/373 [==============================] - 4s 10ms/step - loss: 0.3124 - accuracy: 0.8645 - val_loss: 0.4360 - val_accuracy: 0.8201\n",
      "Epoch 99/100\n",
      "373/373 [==============================] - 4s 11ms/step - loss: 0.3240 - accuracy: 0.8581 - val_loss: 0.3838 - val_accuracy: 0.8396\n",
      "Epoch 100/100\n",
      "373/373 [==============================] - 4s 11ms/step - loss: 0.3198 - accuracy: 0.8571 - val_loss: 0.4088 - val_accuracy: 0.8399\n"
     ]
    }
   ],
   "source": [
    "history = model.fit(x_train,y_train,epochs=100,validation_data=(x_test, y_test))\n"
   ]
  },
  {
   "cell_type": "code",
   "execution_count": 65,
   "id": "80d40c65",
   "metadata": {},
   "outputs": [
    {
     "data": {
      "text/plain": [
       "dict_keys(['loss', 'accuracy', 'val_loss', 'val_accuracy'])"
      ]
     },
     "execution_count": 65,
     "metadata": {},
     "output_type": "execute_result"
    }
   ],
   "source": [
    "history.history.keys()"
   ]
  },
  {
   "cell_type": "code",
   "execution_count": 66,
   "id": "ca25b4de",
   "metadata": {
    "scrolled": true
   },
   "outputs": [
    {
     "data": {
      "image/png": "[encoded data removed]",
      "text/plain": [
       "<Figure size 432x288 with 1 Axes>"
      ]
     },
     "metadata": {
      "needs_background": "light"
     },
     "output_type": "display_data"
    }
   ],
   "source": [
    "plt.plot(history.history['accuracy'])\n",
    "plt.plot(history.history['loss'])\n",
    "plt.title('Model accuracy and loss')\n",
    "plt.ylabel('accuracy and loss')\n",
    "plt.xlabel('epochs')\n",
    "plt.show()"
   ]
  },
  {
   "cell_type": "code",
   "execution_count": 67,
   "id": "7457e021",
   "metadata": {},
   "outputs": [
    {
     "data": {
      "image/png": "[encoded data removed]",
      "text/plain": [
       "<Figure size 432x288 with 1 Axes>"
      ]
     },
     "metadata": {
      "needs_background": "light"
     },
     "output_type": "display_data"
    }
   ],
   "source": [
    "plt.plot(history.history['val_accuracy'])\n",
    "plt.plot(history.history['val_loss'])\n",
    "\n",
    "plt.title('Model val_accuracy and val_loss')\n",
    "plt.ylabel('val_accuracy and val_loss')\n",
    "plt.xlabel('epochs')\n",
    "plt.show()"
   ]
  },
  {
   "cell_type": "code",
   "execution_count": null,
   "id": "85b7bdfc",
   "metadata": {},
   "outputs": [],
   "source": []
  },
  {
   "cell_type": "code",
   "execution_count": 59,
   "id": "9ce69e45",
   "metadata": {},
   "outputs": [
    {
     "name": "stdout",
     "output_type": "stream",
     "text": [
      "373/373 [==============================] - 4s 3ms/step - loss: 0.2402 - accuracy: 0.8979\n"
     ]
    }
   ],
   "source": [
    "model.evaluate(x_train,y_train)"
   ]
  },
  {
   "cell_type": "code",
   "execution_count": 61,
   "id": "cc564e25",
   "metadata": {},
   "outputs": [
    {
     "data": {
      "text/plain": [
       "<keras.callbacks.History at 0x1eaa5c835e0>"
      ]
     },
     "execution_count": 61,
     "metadata": {},
     "output_type": "execute_result"
    }
   ],
   "source": []
  },
  {
   "cell_type": "markdown",
   "id": "e84e5cb9",
   "metadata": {},
   "source": [
    "### sigmoid function output is in range 0->1\n",
    "### so we made the cells that have value less than 0.5 to 0\n",
    "### cells tha have value More than or equal 0.5 to 1"
   ]
  },
  {
   "cell_type": "markdown",
   "id": "79ddbc60",
   "metadata": {},
   "source": [
    "## compute the accuracy on test data "
   ]
  },
  {
   "cell_type": "code",
   "execution_count": 68,
   "id": "2b491169",
   "metadata": {},
   "outputs": [],
   "source": [
    "y_predSec= model.predict(x_test)\n",
    "y_predSec=pd.DataFrame(y_predSec)\n",
    "l=len(y_predSec)\n",
    "for i in range(l):\n",
    "    if y_predSec[0][i]< 0.5:\n",
    "        y_predSec[0][i]= 0\n",
    "    else:\n",
    "        y_predSec[0][i]=1\n"
   ]
  },
  {
   "cell_type": "code",
   "execution_count": 69,
   "id": "252a61e6",
   "metadata": {},
   "outputs": [
    {
     "data": {
      "text/plain": [
       "0.8399328859060403"
      ]
     },
     "execution_count": 69,
     "metadata": {},
     "output_type": "execute_result"
    }
   ],
   "source": [
    "from sklearn.metrics import accuracy_score\n",
    "Acccore = accuracy_score(y_test, y_predSec[0], normalize=True)\n",
    "Acccore\n"
   ]
  },
  {
   "cell_type": "code",
   "execution_count": 70,
   "id": "ed02bfca",
   "metadata": {},
   "outputs": [
    {
     "name": "stdout",
     "output_type": "stream",
     "text": [
      "[[2013  179]\n",
      " [ 298  490]]\n",
      "\n",
      "recall_score for ypredSVC\t 0.6218274111675127 \n",
      "precision_score for ypredSVC\t 0.7324364723467862\n"
     ]
    }
   ],
   "source": [
    "from sklearn.metrics import confusion_matrix\n",
    "confusion_matrix5 =confusion_matrix(y_test, y_predSec)\n",
    "R=recall_score(y_test, y_predSec, average=\"binary\")\n",
    "P=precision_score(y_test, y_predSec, average='binary')\n",
    "print(confusion_matrix5)\n",
    "print(\"\\nrecall_score for ypredSVC\\t\",R,'\\nprecision_score for ypredSVC\\t',P)"
   ]
  },
  {
   "cell_type": "code",
   "execution_count": null,
   "id": "5a4cfeed",
   "metadata": {},
   "outputs": [],
   "source": []
  },
  {
   "cell_type": "code",
   "execution_count": null,
   "id": "d0efdb5a",
   "metadata": {},
   "outputs": [],
   "source": []
  },
  {
   "cell_type": "code",
   "execution_count": 78,
   "id": "f1cf81d4",
   "metadata": {
    "scrolled": true
   },
   "outputs": [
    {
     "name": "stdout",
     "output_type": "stream",
     "text": [
      "Epoch 1/110\n",
      "373/373 [==============================] - 190s 59ms/step - loss: 0.5789 - accuracy: 0.7278 - val_loss: 0.5619 - val_accuracy: 0.7359\n",
      "Epoch 2/110\n",
      "373/373 [==============================] - 18s 48ms/step - loss: 0.5629 - accuracy: 0.7286 - val_loss: 0.5743 - val_accuracy: 0.7376\n",
      "Epoch 3/110\n",
      "373/373 [==============================] - 17s 46ms/step - loss: 0.5585 - accuracy: 0.7281 - val_loss: 0.5545 - val_accuracy: 0.7403\n",
      "Epoch 4/110\n",
      "373/373 [==============================] - 16s 44ms/step - loss: 0.5578 - accuracy: 0.7304 - val_loss: 0.5614 - val_accuracy: 0.7379\n",
      "Epoch 5/110\n",
      "373/373 [==============================] - 18s 47ms/step - loss: 0.5517 - accuracy: 0.7341 - val_loss: 0.5514 - val_accuracy: 0.7413\n",
      "Epoch 6/110\n",
      "373/373 [==============================] - 17s 46ms/step - loss: 0.5498 - accuracy: 0.7357 - val_loss: 0.5437 - val_accuracy: 0.7436\n",
      "Epoch 7/110\n",
      "373/373 [==============================] - 16s 44ms/step - loss: 0.5445 - accuracy: 0.7388 - val_loss: 0.5488 - val_accuracy: 0.7483\n",
      "Epoch 8/110\n",
      "373/373 [==============================] - 18s 47ms/step - loss: 0.5443 - accuracy: 0.7376 - val_loss: 0.5425 - val_accuracy: 0.7403\n",
      "Epoch 9/110\n",
      "373/373 [==============================] - 15s 40ms/step - loss: 0.5390 - accuracy: 0.7431 - val_loss: 0.5336 - val_accuracy: 0.7567\n",
      "Epoch 10/110\n",
      "373/373 [==============================] - 16s 43ms/step - loss: 0.5358 - accuracy: 0.7442 - val_loss: 0.5367 - val_accuracy: 0.7540\n",
      "Epoch 11/110\n",
      "373/373 [==============================] - 16s 43ms/step - loss: 0.5353 - accuracy: 0.7470 - val_loss: 0.5270 - val_accuracy: 0.7557\n",
      "Epoch 12/110\n",
      "373/373 [==============================] - 15s 40ms/step - loss: 0.5317 - accuracy: 0.7477 - val_loss: 0.5252 - val_accuracy: 0.7574\n",
      "Epoch 13/110\n",
      "373/373 [==============================] - 17s 45ms/step - loss: 0.5297 - accuracy: 0.7491 - val_loss: 0.5289 - val_accuracy: 0.7560\n",
      "Epoch 14/110\n",
      "373/373 [==============================] - 17s 47ms/step - loss: 0.5266 - accuracy: 0.7503 - val_loss: 0.5258 - val_accuracy: 0.7581\n",
      "Epoch 15/110\n",
      "373/373 [==============================] - 15s 41ms/step - loss: 0.5246 - accuracy: 0.7503 - val_loss: 0.5216 - val_accuracy: 0.7554\n",
      "Epoch 16/110\n",
      "373/373 [==============================] - 17s 46ms/step - loss: 0.5224 - accuracy: 0.7517 - val_loss: 0.5235 - val_accuracy: 0.7544\n",
      "Epoch 17/110\n",
      "373/373 [==============================] - 16s 43ms/step - loss: 0.5205 - accuracy: 0.7534 - val_loss: 0.5250 - val_accuracy: 0.7557\n",
      "Epoch 18/110\n",
      "373/373 [==============================] - 17s 46ms/step - loss: 0.5205 - accuracy: 0.7503 - val_loss: 0.5158 - val_accuracy: 0.7587\n",
      "Epoch 19/110\n",
      "373/373 [==============================] - 16s 43ms/step - loss: 0.5167 - accuracy: 0.7534 - val_loss: 0.5116 - val_accuracy: 0.7554\n",
      "Epoch 20/110\n",
      "373/373 [==============================] - 18s 48ms/step - loss: 0.5162 - accuracy: 0.7539 - val_loss: 0.5055 - val_accuracy: 0.7614\n",
      "Epoch 21/110\n",
      "373/373 [==============================] - 18s 47ms/step - loss: 0.5115 - accuracy: 0.7570 - val_loss: 0.5168 - val_accuracy: 0.7604\n",
      "Epoch 22/110\n",
      "373/373 [==============================] - 16s 43ms/step - loss: 0.5102 - accuracy: 0.7552 - val_loss: 0.5008 - val_accuracy: 0.7648\n",
      "Epoch 23/110\n",
      "373/373 [==============================] - 17s 45ms/step - loss: 0.5098 - accuracy: 0.7521 - val_loss: 0.5040 - val_accuracy: 0.7621\n",
      "Epoch 24/110\n",
      "373/373 [==============================] - 16s 44ms/step - loss: 0.5037 - accuracy: 0.7586 - val_loss: 0.5083 - val_accuracy: 0.7581\n",
      "Epoch 25/110\n",
      "373/373 [==============================] - 16s 42ms/step - loss: 0.5031 - accuracy: 0.7560 - val_loss: 0.5060 - val_accuracy: 0.7624\n",
      "Epoch 26/110\n",
      "373/373 [==============================] - 17s 45ms/step - loss: 0.4989 - accuracy: 0.7603 - val_loss: 0.5026 - val_accuracy: 0.7581\n",
      "Epoch 27/110\n",
      "373/373 [==============================] - 17s 44ms/step - loss: 0.4960 - accuracy: 0.7573 - val_loss: 0.4904 - val_accuracy: 0.7681\n",
      "Epoch 28/110\n",
      "373/373 [==============================] - 18s 47ms/step - loss: 0.4936 - accuracy: 0.7617 - val_loss: 0.4926 - val_accuracy: 0.7644\n",
      "Epoch 29/110\n",
      "373/373 [==============================] - 15s 41ms/step - loss: 0.4889 - accuracy: 0.7621 - val_loss: 0.4831 - val_accuracy: 0.7728\n",
      "Epoch 30/110\n",
      "373/373 [==============================] - 15s 41ms/step - loss: 0.4873 - accuracy: 0.7638 - val_loss: 0.4780 - val_accuracy: 0.7654\n",
      "Epoch 31/110\n",
      "373/373 [==============================] - 16s 44ms/step - loss: 0.4874 - accuracy: 0.7577 - val_loss: 0.4853 - val_accuracy: 0.7664\n",
      "Epoch 32/110\n",
      "373/373 [==============================] - 17s 45ms/step - loss: 0.4860 - accuracy: 0.7618 - val_loss: 0.5054 - val_accuracy: 0.7574\n",
      "Epoch 33/110\n",
      "373/373 [==============================] - 16s 43ms/step - loss: 0.4816 - accuracy: 0.7604 - val_loss: 0.4703 - val_accuracy: 0.7698\n",
      "Epoch 34/110\n",
      "373/373 [==============================] - 16s 42ms/step - loss: 0.4759 - accuracy: 0.7673 - val_loss: 0.4694 - val_accuracy: 0.7688\n",
      "Epoch 35/110\n",
      "373/373 [==============================] - 16s 42ms/step - loss: 0.4736 - accuracy: 0.7711 - val_loss: 0.4698 - val_accuracy: 0.7614\n",
      "Epoch 36/110\n",
      "373/373 [==============================] - 16s 42ms/step - loss: 0.4686 - accuracy: 0.7722 - val_loss: 0.4615 - val_accuracy: 0.7795\n",
      "Epoch 37/110\n",
      "373/373 [==============================] - 16s 42ms/step - loss: 0.4656 - accuracy: 0.7799 - val_loss: 0.4623 - val_accuracy: 0.7772\n",
      "Epoch 38/110\n",
      "373/373 [==============================] - 17s 45ms/step - loss: 0.4636 - accuracy: 0.7774 - val_loss: 0.4658 - val_accuracy: 0.7721\n",
      "Epoch 39/110\n",
      "373/373 [==============================] - 16s 43ms/step - loss: 0.4611 - accuracy: 0.7795 - val_loss: 0.4648 - val_accuracy: 0.7799\n",
      "Epoch 40/110\n",
      "373/373 [==============================] - 16s 43ms/step - loss: 0.4537 - accuracy: 0.7816 - val_loss: 0.4585 - val_accuracy: 0.7789\n",
      "Epoch 41/110\n",
      "373/373 [==============================] - 16s 44ms/step - loss: 0.4540 - accuracy: 0.7832 - val_loss: 0.4527 - val_accuracy: 0.7789\n",
      "Epoch 42/110\n",
      "373/373 [==============================] - 16s 42ms/step - loss: 0.4489 - accuracy: 0.7857 - val_loss: 0.4459 - val_accuracy: 0.7856\n",
      "Epoch 43/110\n",
      "373/373 [==============================] - 16s 43ms/step - loss: 0.4480 - accuracy: 0.7873 - val_loss: 0.4418 - val_accuracy: 0.7832\n",
      "Epoch 44/110\n",
      "373/373 [==============================] - 16s 43ms/step - loss: 0.4412 - accuracy: 0.7921 - val_loss: 0.4456 - val_accuracy: 0.7940\n",
      "Epoch 45/110\n",
      "373/373 [==============================] - 16s 42ms/step - loss: 0.4416 - accuracy: 0.7922 - val_loss: 0.4315 - val_accuracy: 0.7970\n",
      "Epoch 46/110\n",
      "373/373 [==============================] - 16s 42ms/step - loss: 0.4374 - accuracy: 0.7959 - val_loss: 0.4453 - val_accuracy: 0.7923\n",
      "Epoch 47/110\n",
      "373/373 [==============================] - 16s 44ms/step - loss: 0.4401 - accuracy: 0.7916 - val_loss: 0.4346 - val_accuracy: 0.7970\n",
      "Epoch 48/110\n",
      "373/373 [==============================] - 16s 43ms/step - loss: 0.4315 - accuracy: 0.7984 - val_loss: 0.4326 - val_accuracy: 0.7973\n",
      "Epoch 49/110\n",
      "373/373 [==============================] - 17s 47ms/step - loss: 0.4260 - accuracy: 0.8040 - val_loss: 0.4373 - val_accuracy: 0.7950\n",
      "Epoch 50/110\n",
      "373/373 [==============================] - 15s 41ms/step - loss: 0.4263 - accuracy: 0.8040 - val_loss: 0.4248 - val_accuracy: 0.8030\n",
      "Epoch 51/110\n",
      "373/373 [==============================] - 15s 41ms/step - loss: 0.4218 - accuracy: 0.8081 - val_loss: 0.4256 - val_accuracy: 0.8017\n",
      "Epoch 52/110\n",
      "373/373 [==============================] - 17s 46ms/step - loss: 0.4201 - accuracy: 0.8025 - val_loss: 0.4336 - val_accuracy: 0.8010\n",
      "Epoch 53/110\n",
      "373/373 [==============================] - 16s 43ms/step - loss: 0.4166 - accuracy: 0.8074 - val_loss: 0.4120 - val_accuracy: 0.8114\n",
      "Epoch 54/110\n",
      "373/373 [==============================] - 15s 41ms/step - loss: 0.4105 - accuracy: 0.8097 - val_loss: 0.4260 - val_accuracy: 0.8047\n",
      "Epoch 55/110\n",
      "373/373 [==============================] - 15s 41ms/step - loss: 0.4089 - accuracy: 0.8100 - val_loss: 0.4380 - val_accuracy: 0.7849\n",
      "Epoch 56/110\n",
      "373/373 [==============================] - 16s 44ms/step - loss: 0.4116 - accuracy: 0.8096 - val_loss: 0.4117 - val_accuracy: 0.8097\n",
      "Epoch 57/110\n"
     ]
    },
    {
     "name": "stdout",
     "output_type": "stream",
     "text": [
      "373/373 [==============================] - 16s 44ms/step - loss: 0.4038 - accuracy: 0.8153 - val_loss: 0.4056 - val_accuracy: 0.8054\n",
      "Epoch 58/110\n",
      "373/373 [==============================] - 16s 44ms/step - loss: 0.4089 - accuracy: 0.8090 - val_loss: 0.4066 - val_accuracy: 0.8131\n",
      "Epoch 59/110\n",
      "373/373 [==============================] - 15s 41ms/step - loss: 0.3957 - accuracy: 0.8183 - val_loss: 0.4115 - val_accuracy: 0.8081\n",
      "Epoch 60/110\n",
      "373/373 [==============================] - 15s 40ms/step - loss: 0.3939 - accuracy: 0.8204 - val_loss: 0.3987 - val_accuracy: 0.8144\n",
      "Epoch 61/110\n",
      "373/373 [==============================] - 16s 43ms/step - loss: 0.3978 - accuracy: 0.8158 - val_loss: 0.4037 - val_accuracy: 0.8198\n",
      "Epoch 62/110\n",
      "373/373 [==============================] - 17s 45ms/step - loss: 0.3960 - accuracy: 0.8192 - val_loss: 0.3956 - val_accuracy: 0.8161\n",
      "Epoch 63/110\n",
      "373/373 [==============================] - 17s 44ms/step - loss: 0.3850 - accuracy: 0.8244 - val_loss: 0.4045 - val_accuracy: 0.8178\n",
      "Epoch 64/110\n",
      "373/373 [==============================] - 17s 45ms/step - loss: 0.3875 - accuracy: 0.8241 - val_loss: 0.4105 - val_accuracy: 0.8134\n",
      "Epoch 65/110\n",
      "373/373 [==============================] - 16s 42ms/step - loss: 0.3834 - accuracy: 0.8266 - val_loss: 0.3966 - val_accuracy: 0.8185\n",
      "Epoch 66/110\n",
      "373/373 [==============================] - 16s 43ms/step - loss: 0.3835 - accuracy: 0.8276 - val_loss: 0.4005 - val_accuracy: 0.8151\n",
      "Epoch 67/110\n",
      "373/373 [==============================] - 15s 41ms/step - loss: 0.3848 - accuracy: 0.8260 - val_loss: 0.3941 - val_accuracy: 0.8242\n",
      "Epoch 68/110\n",
      "373/373 [==============================] - 17s 46ms/step - loss: 0.3804 - accuracy: 0.8278 - val_loss: 0.3881 - val_accuracy: 0.8245\n",
      "Epoch 69/110\n",
      "373/373 [==============================] - 17s 45ms/step - loss: 0.3768 - accuracy: 0.8279 - val_loss: 0.3984 - val_accuracy: 0.8141\n",
      "Epoch 70/110\n",
      "373/373 [==============================] - 15s 40ms/step - loss: 0.3838 - accuracy: 0.8270 - val_loss: 0.3908 - val_accuracy: 0.8225\n",
      "Epoch 71/110\n",
      "373/373 [==============================] - 16s 44ms/step - loss: 0.3754 - accuracy: 0.8289 - val_loss: 0.3864 - val_accuracy: 0.8235\n",
      "Epoch 72/110\n",
      "373/373 [==============================] - 16s 43ms/step - loss: 0.3687 - accuracy: 0.8341 - val_loss: 0.3862 - val_accuracy: 0.8289\n",
      "Epoch 73/110\n",
      "373/373 [==============================] - 16s 42ms/step - loss: 0.3688 - accuracy: 0.8354 - val_loss: 0.3776 - val_accuracy: 0.8282\n",
      "Epoch 74/110\n",
      "373/373 [==============================] - 16s 42ms/step - loss: 0.3681 - accuracy: 0.8331 - val_loss: 0.4057 - val_accuracy: 0.8148\n",
      "Epoch 75/110\n",
      "373/373 [==============================] - 15s 41ms/step - loss: 0.3701 - accuracy: 0.8359 - val_loss: 0.3808 - val_accuracy: 0.8275\n",
      "Epoch 76/110\n",
      "373/373 [==============================] - 13s 35ms/step - loss: 0.3630 - accuracy: 0.8374 - val_loss: 0.3919 - val_accuracy: 0.8195\n",
      "Epoch 77/110\n",
      "373/373 [==============================] - 12s 33ms/step - loss: 0.3646 - accuracy: 0.8362 - val_loss: 0.3789 - val_accuracy: 0.8248\n",
      "Epoch 78/110\n",
      "373/373 [==============================] - 13s 35ms/step - loss: 0.3641 - accuracy: 0.8348 - val_loss: 0.3884 - val_accuracy: 0.8221\n",
      "Epoch 79/110\n",
      "373/373 [==============================] - 13s 35ms/step - loss: 0.3693 - accuracy: 0.8349 - val_loss: 0.3780 - val_accuracy: 0.8272\n",
      "Epoch 80/110\n",
      "373/373 [==============================] - 12s 33ms/step - loss: 0.3665 - accuracy: 0.8343 - val_loss: 0.3779 - val_accuracy: 0.8302\n",
      "Epoch 81/110\n",
      "373/373 [==============================] - 12s 31ms/step - loss: 0.3565 - accuracy: 0.8419 - val_loss: 0.3773 - val_accuracy: 0.8349\n",
      "Epoch 82/110\n",
      "373/373 [==============================] - 13s 34ms/step - loss: 0.3553 - accuracy: 0.8416 - val_loss: 0.3691 - val_accuracy: 0.8315\n",
      "Epoch 83/110\n",
      "373/373 [==============================] - 14s 37ms/step - loss: 0.3554 - accuracy: 0.8412 - val_loss: 0.3727 - val_accuracy: 0.8319\n",
      "Epoch 84/110\n",
      "373/373 [==============================] - 13s 34ms/step - loss: 0.3566 - accuracy: 0.8398 - val_loss: 0.3802 - val_accuracy: 0.8191\n",
      "Epoch 85/110\n",
      "373/373 [==============================] - 13s 34ms/step - loss: 0.3536 - accuracy: 0.8438 - val_loss: 0.3865 - val_accuracy: 0.8245\n",
      "Epoch 86/110\n",
      "373/373 [==============================] - 12s 31ms/step - loss: 0.3508 - accuracy: 0.8454 - val_loss: 0.3891 - val_accuracy: 0.8245\n",
      "Epoch 87/110\n",
      "373/373 [==============================] - 12s 33ms/step - loss: 0.3519 - accuracy: 0.8429 - val_loss: 0.3715 - val_accuracy: 0.8339\n",
      "Epoch 88/110\n",
      "373/373 [==============================] - 12s 33ms/step - loss: 0.3522 - accuracy: 0.8413 - val_loss: 0.3838 - val_accuracy: 0.8356\n",
      "Epoch 89/110\n",
      "373/373 [==============================] - 12s 33ms/step - loss: 0.3517 - accuracy: 0.8433 - val_loss: 0.3722 - val_accuracy: 0.8295\n",
      "Epoch 90/110\n",
      "373/373 [==============================] - 12s 33ms/step - loss: 0.3471 - accuracy: 0.8439 - val_loss: 0.3846 - val_accuracy: 0.8191\n",
      "Epoch 91/110\n",
      "373/373 [==============================] - 12s 32ms/step - loss: 0.3489 - accuracy: 0.8411 - val_loss: 0.3742 - val_accuracy: 0.8329\n",
      "Epoch 92/110\n",
      "373/373 [==============================] - 12s 33ms/step - loss: 0.3452 - accuracy: 0.8461 - val_loss: 0.3712 - val_accuracy: 0.8349\n",
      "Epoch 93/110\n",
      "373/373 [==============================] - 12s 34ms/step - loss: 0.3412 - accuracy: 0.8453 - val_loss: 0.3915 - val_accuracy: 0.8245\n",
      "Epoch 94/110\n",
      "373/373 [==============================] - 12s 33ms/step - loss: 0.3452 - accuracy: 0.8432 - val_loss: 0.3794 - val_accuracy: 0.8342\n",
      "Epoch 95/110\n",
      "373/373 [==============================] - 13s 34ms/step - loss: 0.3449 - accuracy: 0.8487 - val_loss: 0.3860 - val_accuracy: 0.8285\n",
      "Epoch 96/110\n",
      "373/373 [==============================] - 12s 32ms/step - loss: 0.3428 - accuracy: 0.8474 - val_loss: 0.3666 - val_accuracy: 0.8383\n",
      "Epoch 97/110\n",
      "373/373 [==============================] - 12s 32ms/step - loss: 0.3406 - accuracy: 0.8486 - val_loss: 0.3996 - val_accuracy: 0.8195\n",
      "Epoch 98/110\n",
      "373/373 [==============================] - 12s 32ms/step - loss: 0.3385 - accuracy: 0.8506 - val_loss: 0.3808 - val_accuracy: 0.8329\n",
      "Epoch 99/110\n",
      "373/373 [==============================] - 12s 33ms/step - loss: 0.3378 - accuracy: 0.8495 - val_loss: 0.3897 - val_accuracy: 0.8235\n",
      "Epoch 100/110\n",
      "373/373 [==============================] - 12s 32ms/step - loss: 0.3411 - accuracy: 0.8478 - val_loss: 0.3645 - val_accuracy: 0.8389\n",
      "Epoch 101/110\n",
      "373/373 [==============================] - 13s 35ms/step - loss: 0.3384 - accuracy: 0.8482 - val_loss: 0.3798 - val_accuracy: 0.8329\n",
      "Epoch 102/110\n",
      "373/373 [==============================] - 12s 32ms/step - loss: 0.3341 - accuracy: 0.8519 - val_loss: 0.3802 - val_accuracy: 0.8305\n",
      "Epoch 103/110\n",
      "373/373 [==============================] - 13s 35ms/step - loss: 0.3344 - accuracy: 0.8536 - val_loss: 0.3729 - val_accuracy: 0.8393\n",
      "Epoch 104/110\n",
      "373/373 [==============================] - 13s 35ms/step - loss: 0.3342 - accuracy: 0.8524 - val_loss: 0.3787 - val_accuracy: 0.8339\n",
      "Epoch 105/110\n",
      "373/373 [==============================] - 12s 31ms/step - loss: 0.3336 - accuracy: 0.8522 - val_loss: 0.3823 - val_accuracy: 0.8302\n",
      "Epoch 106/110\n",
      "373/373 [==============================] - 12s 32ms/step - loss: 0.3324 - accuracy: 0.8519 - val_loss: 0.3766 - val_accuracy: 0.8285\n",
      "Epoch 107/110\n",
      "373/373 [==============================] - 12s 32ms/step - loss: 0.3314 - accuracy: 0.8529 - val_loss: 0.3857 - val_accuracy: 0.8342\n",
      "Epoch 108/110\n",
      "373/373 [==============================] - 12s 32ms/step - loss: 0.3292 - accuracy: 0.8528 - val_loss: 0.3714 - val_accuracy: 0.8342\n",
      "Epoch 109/110\n",
      "373/373 [==============================] - 11s 31ms/step - loss: 0.3301 - accuracy: 0.8539 - val_loss: 0.3665 - val_accuracy: 0.8315\n",
      "Epoch 110/110\n",
      "373/373 [==============================] - 12s 32ms/step - loss: 0.3313 - accuracy: 0.8532 - val_loss: 0.3762 - val_accuracy: 0.8285\n"
     ]
    }
   ],
   "source": [
    "m= np.array(x_train)\n",
    "y = np.array(y_train)\n",
    "m = m.reshape(-1, 1, 9)\n",
    "y = y.reshape(-1, 1,)\n",
    "VX= np.array(x_test)\n",
    "VY= np.array(y_test)\n",
    "VX = VX.reshape(-1, 1, 9)\n",
    "VY= VY.reshape(-1, 1,)\n",
    "model =keras.models.Sequential()\n",
    "\n",
    "model.add(layers.LSTM(100, input_shape=(1, 9), return_sequences=True))\n",
    "model.add(layers.Dropout(0.))\n",
    "model.add(layers.LSTM(100, input_shape=(1, 9), return_sequences=True))\n",
    "model.add(layers.Dropout(0.1))\n",
    "\n",
    "model.add(layers.LSTM(100, input_shape=(1, 9), return_sequences=True))\n",
    "model.add(layers.Dropout(0.1))\n",
    "\n",
    "model.add(layers.LSTM(100, input_shape=(1, 9), return_sequences=True))\n",
    "model.add(layers.Dropout(0.1))\n",
    "\n",
    "model.add(layers.LSTM(100, input_shape=(1, 9), return_sequences=True))\n",
    "model.add(layers.Dropout(0.1))\n",
    "\n",
    "\n",
    "model.add(layers.Dense(1,activation='sigmoid'))\n",
    "\n",
    "loss = keras.losses.BinaryCrossentropy(),\n",
    "optim = keras.optimizers.Adam()\n",
    "metrics = [\"accuracy\"]\n",
    "\n",
    "model.compile(loss=loss, optimizer=optim, metrics=metrics)\n",
    "hist1 = model.fit(m,y,epochs=110,validation_data=(VX, VY))"
   ]
  },
  {
   "cell_type": "code",
   "execution_count": 82,
   "id": "e5b4e2a8",
   "metadata": {},
   "outputs": [
    {
     "data": {
      "image/png": "[encoded data removed]",
      "text/plain": [
       "<Figure size 432x288 with 1 Axes>"
      ]
     },
     "metadata": {
      "needs_background": "light"
     },
     "output_type": "display_data"
    }
   ],
   "source": [
    "plt.plot(hist1.history['accuracy'])\n",
    "plt.plot(hist1.history['loss'])\n",
    "plt.title('Model accuracy and loss')\n",
    "plt.ylabel('accuracy and loss')\n",
    "plt.xlabel('epochs')\n",
    "plt.show()"
   ]
  },
  {
   "cell_type": "code",
   "execution_count": 83,
   "id": "03b9c888",
   "metadata": {},
   "outputs": [
    {
     "data": {
      "image/png": "[encoded data removed]",
      "text/plain": [
       "<Figure size 432x288 with 1 Axes>"
      ]
     },
     "metadata": {
      "needs_background": "light"
     },
     "output_type": "display_data"
    }
   ],
   "source": [
    "plt.plot(hist1.history['val_accuracy'])\n",
    "plt.plot(hist1.history['val_loss'])\n",
    "\n",
    "plt.title('Model val_accuracy and val_loss')\n",
    "plt.ylabel('val_accuracy and val_loss')\n",
    "plt.xlabel('epochs')\n",
    "plt.show()"
   ]
  },
  {
   "cell_type": "code",
   "execution_count": 84,
   "id": "163449c1",
   "metadata": {},
   "outputs": [
    {
     "name": "stdout",
     "output_type": "stream",
     "text": [
      "373/373 [==============================] - 7s 10ms/step - loss: 0.3162 - accuracy: 0.8587\n"
     ]
    },
    {
     "data": {
      "text/plain": [
       "[0.31619465351104736, 0.8586773872375488]"
      ]
     },
     "execution_count": 84,
     "metadata": {},
     "output_type": "execute_result"
    }
   ],
   "source": [
    "model.evaluate(m,y) "
   ]
  },
  {
   "cell_type": "code",
   "execution_count": null,
   "id": "a98367ca",
   "metadata": {},
   "outputs": [],
   "source": []
  },
  {
   "cell_type": "code",
   "execution_count": null,
   "id": "de9a6874",
   "metadata": {},
   "outputs": [],
   "source": []
  },
  {
   "cell_type": "code",
   "execution_count": null,
   "id": "56956a48",
   "metadata": {},
   "outputs": [],
   "source": []
  },
  {
   "cell_type": "code",
   "execution_count": 39,
   "id": "5069ccfb",
   "metadata": {},
   "outputs": [],
   "source": [
    "m2= np.array(x_test)\n",
    "l = m2.shape[0]\n",
    "m2 = m2.reshape(-1, 1, 9)\n",
    "y_predLSTM=model.predict(m2)\n",
    "y_predLSTM=y_predLSTM.reshape(l,)\n",
    "y_predLSTM=pd.DataFrame(y_predLSTM)\n",
    "\n",
    "\n"
   ]
  },
  {
   "cell_type": "code",
   "execution_count": 40,
   "id": "1026da10",
   "metadata": {},
   "outputs": [],
   "source": [
    "y_predLSTM=round(y_predLSTM)\n"
   ]
  },
  {
   "cell_type": "code",
   "execution_count": 43,
   "id": "3f79a581",
   "metadata": {},
   "outputs": [
    {
     "data": {
      "text/plain": [
       "0.8389261744966443"
      ]
     },
     "execution_count": 43,
     "metadata": {},
     "output_type": "execute_result"
    }
   ],
   "source": [
    "from sklearn.metrics import accuracy_score\n",
    "Acccore = accuracy_score(y_test, y_predLSTM[0], normalize=True)\n",
    "Acccore"
   ]
  },
  {
   "cell_type": "code",
   "execution_count": 42,
   "id": "1c35358c",
   "metadata": {},
   "outputs": [
    {
     "name": "stdout",
     "output_type": "stream",
     "text": [
      "[[2039  153]\n",
      " [ 327  461]]\n",
      "\n",
      "recall_score for y_predLSTM\t 0.5850253807106599 \n",
      "precision_score for y_predLSTM\t 0.750814332247557\n"
     ]
    }
   ],
   "source": [
    "from sklearn.metrics import confusion_matrix\n",
    "confusion_matrix6 =confusion_matrix(y_test, y_predLSTM)\n",
    "R=recall_score(y_test, y_predLSTM, average='binary')\n",
    "P=precision_score(y_test, y_predLSTM, average='binary')\n",
    "print(confusion_matrix6)\n",
    "print(\"\\nrecall_score for y_predLSTM\\t\",R,'\\nprecision_score for y_predLSTM\\t',P)"
   ]
  },
  {
   "cell_type": "code",
   "execution_count": 33,
   "id": "bf43dc18",
   "metadata": {},
   "outputs": [],
   "source": [
    "# import pickle"
   ]
  },
  {
   "cell_type": "code",
   "execution_count": 34,
   "id": "d883668e",
   "metadata": {},
   "outputs": [],
   "source": [
    "# data = {'model':RandomForestClassifierModel}\n",
    "# with open('saved_steps.pkl','wb') as file:\n",
    "#     pickle.dump(data, file)"
   ]
  },
  {
   "cell_type": "code",
   "execution_count": 36,
   "id": "d9c92d07",
   "metadata": {},
   "outputs": [],
   "source": [
    "# with open('saved_steps.pkl','rb') as file:\n",
    "#     data = pickle.load(file)\n",
    "# RFCM = data['model']"
   ]
  },
  {
   "cell_type": "code",
   "execution_count": 1,
   "id": "efa486d4",
   "metadata": {
    "scrolled": true
   },
   "outputs": [],
   "source": [
    "# r = RFCM.predict(X_Bcell_Sars)\n",
    "# r=pd.DataFrame(r)\n",
    "# r[:30]"
   ]
  },
  {
   "cell_type": "code",
   "execution_count": null,
   "id": "b895eaf4",
   "metadata": {},
   "outputs": [],
   "source": []
  },
  {
   "cell_type": "code",
   "execution_count": null,
   "id": "3b7a19c1",
   "metadata": {},
   "outputs": [],
   "source": []
  },
  {
   "cell_type": "code",
   "execution_count": null,
   "id": "7aac4ad9",
   "metadata": {},
   "outputs": [],
   "source": []
  },
  {
   "cell_type": "code",
   "execution_count": null,
   "id": "14f3abcd",
   "metadata": {},
   "outputs": [],
   "source": []
  }
 ],
 "metadata": {
  "kernelspec": {
   "display_name": "Python 3 (ipykernel)",
   "language": "python",
   "name": "python3"
  },
  "language_info": {
   "codemirror_mode": {
    "name": "ipython",
    "version": 3
   },
   "file_extension": ".py",
   "mimetype": "text/x-python",
   "name": "python",
   "nbconvert_exporter": "python",
   "pygments_lexer": "ipython3",
   "version": "3.9.7"
  }
 },
 "nbformat": 4,
 "nbformat_minor": 5
}
